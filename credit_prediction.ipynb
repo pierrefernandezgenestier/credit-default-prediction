{
 "cells": [
  {
   "cell_type": "code",
   "execution_count": 175,
   "metadata": {
    "colab": {
     "base_uri": "https://localhost:8080/",
     "height": 107
    },
    "colab_type": "code",
    "id": "gaElbw9TCx4I",
    "outputId": "1902943f-4446-4a92-baa9-e0e99927bbd6"
   },
   "outputs": [],
   "source": [
    "# to read the csv file\n",
    "import pandas as pd\n",
    "import csv\n",
    "\n",
    "# utils\n",
    "import numpy as np\n",
    "\n",
    "# to do graphs\n",
    "import matplotlib.pyplot as plt\n",
    "\n",
    "# sklearn\n",
    "from sklearn.model_selection import train_test_split\n",
    "\n",
    "# sklearn models\n",
    "from sklearn import linear_model\n",
    "from sklearn import svm\n",
    "from sklearn.ensemble import RandomForestClassifier\n",
    "from sklearn.model_selection import RandomizedSearchCV\n",
    "from sklearn.model_selection import GridSearchCV\n",
    "from sklearn.model_selection import cross_val_score\n",
    "\n",
    "# sklearn scores\n",
    "from sklearn.metrics import roc_curve, precision_recall_curve, auc, f1_score, accuracy_score, confusion_matrix\n",
    "from imblearn.over_sampling import RandomOverSampler, SMOTE\n",
    "\n",
    "# keras\n",
    "import tensorflow.keras as keras"
   ]
  },
  {
   "cell_type": "markdown",
   "metadata": {
    "colab_type": "text",
    "id": "XIAMehUdCx4Q"
   },
   "source": [
    "## 1. Data exploration and preprocessing\n",
    "\n",
    "The goal of the project is to predic the credit issue of a client (Y), according to some variables, as shown below.\n",
    "A credit default contains the following variables:\n",
    "\n",
    "<table>\n",
    "<tr>\n",
    "    <th>Variable</th>\n",
    "    <th>Content</th>\n",
    "    <th>Type</th>\n",
    "</tr>\n",
    "<tr class=\"odd\">\n",
    "    <td align=\"left\">BirthDate</td>\n",
    "    <td align=\"left\">Client birth date</td>\n",
    "    <td align=\"left\">Date</td>\n",
    "</tr>\n",
    "<tr class=\"even\">\n",
    "    <td align=\"left\">Customer_Open_Date</td>\n",
    "    <td align=\"left\">Arrival date of the client in the branch of the bank filial</td>\n",
    "    <td align=\"left\">Date</td>\n",
    "</tr>\n",
    "<tr class=\"odd\">\n",
    "<td align=\"left\">Customer_Type</td>\n",
    "<td align=\"left\">Customer type (existing / new)</td>\n",
    "<td align=\"left\">String</td>\n",
    "</tr>\n",
    "<tr class=\"even\">\n",
    "<td align=\"left\">Educational_Level</td>\n",
    "<td align=\"left\">Highest Degree</td>\n",
    "<td align=\"left\">String</td>\n",
    "</tr>\n",
    "<tr class=\"odd\">\n",
    "<td align=\"left\">Id_Customer</td>\n",
    "<td align=\"left\">Customer identifier</td>\n",
    "<td align=\"left\">Numerical</td>\n",
    "</tr>\n",
    "<tr class=\"even\">\n",
    "<td align=\"left\">Marital_Status</td>\n",
    "<td align=\"left\">Martital status</td>\n",
    "<td align=\"left\">String</td>\n",
    "</tr>\n",
    "<tr class=\"odd\">\n",
    "<td align=\"left\">Nb_Of_Products</td>\n",
    "<td align=\"left\">Number of products detained by the customer at the decision date</td>\n",
    "<td align=\"left\">Numerical</td>\n",
    "</tr>\n",
    "<tr class=\"even\">\n",
    "<td align=\"left\">Net_Annual_Income</td>\n",
    "<td align=\"left\">Annual income</td>\n",
    "<td align=\"left\">Numerical</td>\n",
    "</tr>\n",
    "<tr class=\"odd\">\n",
    "<td align=\"left\">Number_Of_Dependant</td>\n",
    "<td align=\"left\">Number of dependant</td>\n",
    "<td align=\"left\">Numerical</td>\n",
    "</tr>\n",
    "<tr class=\"even\">\n",
    "<td align=\"left\">P_Client</td>\n",
    "<td align=\"left\">Intern categorization of the client</td>\n",
    "<td align=\"left\">String</td>\n",
    "</tr>\n",
    "<tr class=\"odd\">\n",
    "<td align=\"left\">Prod_Category</td>\n",
    "<td align=\"left\">Product category</td>\n",
    "<td align=\"left\">String</td>\n",
    "</tr>\n",
    "<tr class=\"even\">\n",
    "<td align=\"left\">Prod_Closed_Date</td>\n",
    "<td align=\"left\">Closing date of the product</td>\n",
    "<td align=\"left\">Date</td>\n",
    "</tr>\n",
    "<tr class=\"odd\">\n",
    "<td align=\"left\">Prod_Decision_Date</td>\n",
    "<td align=\"left\">Decision date of the financing grant</td>\n",
    "<td align=\"left\">Date</td>\n",
    "</tr>\n",
    "<tr class=\"even\">\n",
    "<td align=\"left\">Prod_Sub_Category</td>\n",
    "<td align=\"left\">Product subcategory</td>\n",
    "<td align=\"left\">String</td>\n",
    "</tr>\n",
    "<tr class=\"odd\">\n",
    "<td align=\"left\">Source</td>\n",
    "<td align=\"left\">Financing source (Branch / Sales)</td>\n",
    "<td align=\"left\">String</td>\n",
    "</tr>\n",
    "<tr class=\"even\">\n",
    "<td align=\"left\">Type_Of_Residence</td>\n",
    "<td align=\"left\">Type of residence</td>\n",
    "<td align=\"left\">String</td>\n",
    "</tr>\n",
    "<tr class=\"odd\">\n",
    "<td align=\"left\">Years_At_Business</td>\n",
    "<td align=\"left\">Number of years in the current job</td>\n",
    "<td align=\"left\">Numerical</td>\n",
    "</tr>\n",
    "<tr class=\"even\">\n",
    "<td align=\"left\">Years_At_Residence</td>\n",
    "<td align=\"left\">Number of years at the current residence place</td>\n",
    "<td align=\"left\">Numerical</td>\n",
    "</tr>\n",
    "<tr class=\"odd\">\n",
    "<td align=\"left\">Y</td>\n",
    "<td align=\"left\">Credit issue (to be predicted)</td>\n",
    "<td align=\"left\">Numerical</td>\n",
    "</tr>\n",
    "</table>"
   ]
  },
  {
   "cell_type": "code",
   "execution_count": 2,
   "metadata": {
    "colab": {
     "base_uri": "https://localhost:8080/",
     "height": 274
    },
    "colab_type": "code",
    "id": "bjpR0MMRCx4R",
    "outputId": "13d4668e-d944-4756-a6f1-029c288e196e"
   },
   "outputs": [
    {
     "data": {
      "text/html": [
       "<div>\n",
       "<style scoped>\n",
       "    .dataframe tbody tr th:only-of-type {\n",
       "        vertical-align: middle;\n",
       "    }\n",
       "\n",
       "    .dataframe tbody tr th {\n",
       "        vertical-align: top;\n",
       "    }\n",
       "\n",
       "    .dataframe thead th {\n",
       "        text-align: right;\n",
       "    }\n",
       "</style>\n",
       "<table border=\"1\" class=\"dataframe\">\n",
       "  <thead>\n",
       "    <tr style=\"text-align: right;\">\n",
       "      <th></th>\n",
       "      <th>Id_Customer</th>\n",
       "      <th>Y</th>\n",
       "      <th>Customer_Type</th>\n",
       "      <th>BirthDate</th>\n",
       "      <th>Customer_Open_Date</th>\n",
       "      <th>P_Client</th>\n",
       "      <th>Educational_Level</th>\n",
       "      <th>Marital_Status</th>\n",
       "      <th>Number_Of_Dependant</th>\n",
       "      <th>Years_At_Residence</th>\n",
       "      <th>Net_Annual_Income</th>\n",
       "      <th>Years_At_Business</th>\n",
       "      <th>Prod_Sub_Category</th>\n",
       "      <th>Prod_Decision_Date</th>\n",
       "      <th>Source</th>\n",
       "      <th>Type_Of_Residence</th>\n",
       "      <th>Nb_Of_Products</th>\n",
       "      <th>Prod_Closed_Date</th>\n",
       "      <th>Prod_Category</th>\n",
       "    </tr>\n",
       "  </thead>\n",
       "  <tbody>\n",
       "    <tr>\n",
       "      <th>0</th>\n",
       "      <td>7440</td>\n",
       "      <td>0</td>\n",
       "      <td>Non Existing Client</td>\n",
       "      <td>07/08/1977</td>\n",
       "      <td>13/02/2012</td>\n",
       "      <td>NP_Client</td>\n",
       "      <td>University</td>\n",
       "      <td>Married</td>\n",
       "      <td>3.0</td>\n",
       "      <td>1</td>\n",
       "      <td>36</td>\n",
       "      <td>1.0</td>\n",
       "      <td>C</td>\n",
       "      <td>14/02/2012</td>\n",
       "      <td>Sales</td>\n",
       "      <td>Owned</td>\n",
       "      <td>1</td>\n",
       "      <td>NaN</td>\n",
       "      <td>B</td>\n",
       "    </tr>\n",
       "    <tr>\n",
       "      <th>1</th>\n",
       "      <td>573</td>\n",
       "      <td>0</td>\n",
       "      <td>Existing Client</td>\n",
       "      <td>13/06/1974</td>\n",
       "      <td>04/02/2009</td>\n",
       "      <td>P_Client</td>\n",
       "      <td>University</td>\n",
       "      <td>Married</td>\n",
       "      <td>0.0</td>\n",
       "      <td>12</td>\n",
       "      <td>18</td>\n",
       "      <td>2.0</td>\n",
       "      <td>C</td>\n",
       "      <td>30/06/2011</td>\n",
       "      <td>Sales</td>\n",
       "      <td>Parents</td>\n",
       "      <td>1</td>\n",
       "      <td>NaN</td>\n",
       "      <td>G</td>\n",
       "    </tr>\n",
       "    <tr>\n",
       "      <th>2</th>\n",
       "      <td>9194</td>\n",
       "      <td>0</td>\n",
       "      <td>Non Existing Client</td>\n",
       "      <td>07/11/1973</td>\n",
       "      <td>03/04/2012</td>\n",
       "      <td>NP_Client</td>\n",
       "      <td>University</td>\n",
       "      <td>Married</td>\n",
       "      <td>2.0</td>\n",
       "      <td>10</td>\n",
       "      <td>36</td>\n",
       "      <td>1.0</td>\n",
       "      <td>C</td>\n",
       "      <td>04/04/2012</td>\n",
       "      <td>Sales</td>\n",
       "      <td>Owned</td>\n",
       "      <td>1</td>\n",
       "      <td>NaN</td>\n",
       "      <td>B</td>\n",
       "    </tr>\n",
       "    <tr>\n",
       "      <th>3</th>\n",
       "      <td>3016</td>\n",
       "      <td>1</td>\n",
       "      <td>Existing Client</td>\n",
       "      <td>08/07/1982</td>\n",
       "      <td>25/08/2011</td>\n",
       "      <td>NP_Client</td>\n",
       "      <td>University</td>\n",
       "      <td>Married</td>\n",
       "      <td>3.0</td>\n",
       "      <td>3</td>\n",
       "      <td>36</td>\n",
       "      <td>1.0</td>\n",
       "      <td>C</td>\n",
       "      <td>07/09/2011</td>\n",
       "      <td>Sales</td>\n",
       "      <td>New rent</td>\n",
       "      <td>1</td>\n",
       "      <td>31/12/2012</td>\n",
       "      <td>L</td>\n",
       "    </tr>\n",
       "    <tr>\n",
       "      <th>4</th>\n",
       "      <td>6524</td>\n",
       "      <td>0</td>\n",
       "      <td>Non Existing Client</td>\n",
       "      <td>18/08/1953</td>\n",
       "      <td>10/01/2012</td>\n",
       "      <td>NP_Client</td>\n",
       "      <td>University</td>\n",
       "      <td>Married</td>\n",
       "      <td>2.0</td>\n",
       "      <td>1</td>\n",
       "      <td>36</td>\n",
       "      <td>1.0</td>\n",
       "      <td>C</td>\n",
       "      <td>11/01/2012</td>\n",
       "      <td>Sales</td>\n",
       "      <td>Owned</td>\n",
       "      <td>1</td>\n",
       "      <td>NaN</td>\n",
       "      <td>D</td>\n",
       "    </tr>\n",
       "  </tbody>\n",
       "</table>\n",
       "</div>"
      ],
      "text/plain": [
       "   Id_Customer  Y        Customer_Type   BirthDate Customer_Open_Date  \\\n",
       "0         7440  0  Non Existing Client  07/08/1977         13/02/2012   \n",
       "1          573  0      Existing Client  13/06/1974         04/02/2009   \n",
       "2         9194  0  Non Existing Client  07/11/1973         03/04/2012   \n",
       "3         3016  1      Existing Client  08/07/1982         25/08/2011   \n",
       "4         6524  0  Non Existing Client  18/08/1953         10/01/2012   \n",
       "\n",
       "    P_Client Educational_Level Marital_Status  Number_Of_Dependant  \\\n",
       "0  NP_Client        University        Married                  3.0   \n",
       "1   P_Client        University        Married                  0.0   \n",
       "2  NP_Client        University        Married                  2.0   \n",
       "3  NP_Client        University        Married                  3.0   \n",
       "4  NP_Client        University        Married                  2.0   \n",
       "\n",
       "   Years_At_Residence Net_Annual_Income  Years_At_Business Prod_Sub_Category  \\\n",
       "0                   1                36                1.0                 C   \n",
       "1                  12                18                2.0                 C   \n",
       "2                  10                36                1.0                 C   \n",
       "3                   3                36                1.0                 C   \n",
       "4                   1                36                1.0                 C   \n",
       "\n",
       "  Prod_Decision_Date Source Type_Of_Residence  Nb_Of_Products  \\\n",
       "0         14/02/2012  Sales             Owned               1   \n",
       "1         30/06/2011  Sales           Parents               1   \n",
       "2         04/04/2012  Sales             Owned               1   \n",
       "3         07/09/2011  Sales          New rent               1   \n",
       "4         11/01/2012  Sales             Owned               1   \n",
       "\n",
       "  Prod_Closed_Date Prod_Category  \n",
       "0              NaN             B  \n",
       "1              NaN             G  \n",
       "2              NaN             B  \n",
       "3       31/12/2012             L  \n",
       "4              NaN             D  "
      ]
     },
     "execution_count": 2,
     "metadata": {},
     "output_type": "execute_result"
    }
   ],
   "source": [
    "df = pd.read_csv(\"CreditTraining.csv\")\n",
    "keys = df.keys()\n",
    "df.head()"
   ]
  },
  {
   "cell_type": "markdown",
   "metadata": {
    "colab_type": "text",
    "id": "Hci5HM4sCx4X"
   },
   "source": [
    "The variables can already be categorised:\n",
    "- dates\n",
    "- string categories (binary or not)\n",
    "- integers categories (binary or not)\n",
    "- numbers, \"Net_Annual_Income\" for instance"
   ]
  },
  {
   "cell_type": "markdown",
   "metadata": {
    "colab_type": "text",
    "id": "1mlxK2SrCx4Y"
   },
   "source": [
    "### a. The Customer Id\n",
    "The id play does not provide any information, since there is no duplicate in the list of ids (meaning that the same customer does not appear twice in the list)."
   ]
  },
  {
   "cell_type": "code",
   "execution_count": 3,
   "metadata": {
    "colab": {
     "base_uri": "https://localhost:8080/",
     "height": 35
    },
    "colab_type": "code",
    "id": "tbb4nVqDCx4Z",
    "outputId": "fec77846-40cb-4f6c-975d-cf47ea1b602a",
    "scrolled": true
   },
   "outputs": [
    {
     "data": {
      "text/plain": [
       "True"
      ]
     },
     "execution_count": 3,
     "metadata": {},
     "output_type": "execute_result"
    }
   ],
   "source": [
    "len(df[keys[0]]) == len(list(dict.fromkeys(df[keys[0]])))"
   ]
  },
  {
   "cell_type": "code",
   "execution_count": 4,
   "metadata": {
    "colab": {},
    "colab_type": "code",
    "id": "YbfF2Kv8Cx4f",
    "scrolled": true
   },
   "outputs": [],
   "source": [
    "df = df.drop(columns=['Id_Customer'])\n",
    "keys = df.keys()"
   ]
  },
  {
   "cell_type": "markdown",
   "metadata": {
    "colab_type": "text",
    "id": "jlmSlTkaCx4k"
   },
   "source": [
    "### b. Dates\n",
    "The string data needs to be put under a good format."
   ]
  },
  {
   "cell_type": "code",
   "execution_count": 5,
   "metadata": {
    "colab": {
     "base_uri": "https://localhost:8080/",
     "height": 309
    },
    "colab_type": "code",
    "id": "qf-kuUkpCx4k",
    "outputId": "3d0695c1-07a2-48e6-bb55-b0987f4969ad",
    "scrolled": true
   },
   "outputs": [
    {
     "data": {
      "text/html": [
       "<div>\n",
       "<style scoped>\n",
       "    .dataframe tbody tr th:only-of-type {\n",
       "        vertical-align: middle;\n",
       "    }\n",
       "\n",
       "    .dataframe tbody tr th {\n",
       "        vertical-align: top;\n",
       "    }\n",
       "\n",
       "    .dataframe thead th {\n",
       "        text-align: right;\n",
       "    }\n",
       "</style>\n",
       "<table border=\"1\" class=\"dataframe\">\n",
       "  <thead>\n",
       "    <tr style=\"text-align: right;\">\n",
       "      <th></th>\n",
       "      <th>Y</th>\n",
       "      <th>Customer_Type</th>\n",
       "      <th>BirthDate</th>\n",
       "      <th>Customer_Open_Date</th>\n",
       "      <th>P_Client</th>\n",
       "      <th>Educational_Level</th>\n",
       "      <th>Marital_Status</th>\n",
       "      <th>Number_Of_Dependant</th>\n",
       "      <th>Years_At_Residence</th>\n",
       "      <th>Net_Annual_Income</th>\n",
       "      <th>Years_At_Business</th>\n",
       "      <th>Prod_Sub_Category</th>\n",
       "      <th>Prod_Decision_Date</th>\n",
       "      <th>Source</th>\n",
       "      <th>Type_Of_Residence</th>\n",
       "      <th>Nb_Of_Products</th>\n",
       "      <th>Prod_Closed_Date</th>\n",
       "      <th>Prod_Category</th>\n",
       "    </tr>\n",
       "  </thead>\n",
       "  <tbody>\n",
       "    <tr>\n",
       "      <th>0</th>\n",
       "      <td>0</td>\n",
       "      <td>Non Existing Client</td>\n",
       "      <td>1977-07-08</td>\n",
       "      <td>2012-02-13</td>\n",
       "      <td>NP_Client</td>\n",
       "      <td>University</td>\n",
       "      <td>Married</td>\n",
       "      <td>3.0</td>\n",
       "      <td>1</td>\n",
       "      <td>36</td>\n",
       "      <td>1.0</td>\n",
       "      <td>C</td>\n",
       "      <td>2012-02-14</td>\n",
       "      <td>Sales</td>\n",
       "      <td>Owned</td>\n",
       "      <td>1</td>\n",
       "      <td>NaT</td>\n",
       "      <td>B</td>\n",
       "    </tr>\n",
       "    <tr>\n",
       "      <th>1</th>\n",
       "      <td>0</td>\n",
       "      <td>Existing Client</td>\n",
       "      <td>1974-06-13</td>\n",
       "      <td>2009-04-02</td>\n",
       "      <td>P_Client</td>\n",
       "      <td>University</td>\n",
       "      <td>Married</td>\n",
       "      <td>0.0</td>\n",
       "      <td>12</td>\n",
       "      <td>18</td>\n",
       "      <td>2.0</td>\n",
       "      <td>C</td>\n",
       "      <td>2011-06-30</td>\n",
       "      <td>Sales</td>\n",
       "      <td>Parents</td>\n",
       "      <td>1</td>\n",
       "      <td>NaT</td>\n",
       "      <td>G</td>\n",
       "    </tr>\n",
       "    <tr>\n",
       "      <th>2</th>\n",
       "      <td>0</td>\n",
       "      <td>Non Existing Client</td>\n",
       "      <td>1973-07-11</td>\n",
       "      <td>2012-03-04</td>\n",
       "      <td>NP_Client</td>\n",
       "      <td>University</td>\n",
       "      <td>Married</td>\n",
       "      <td>2.0</td>\n",
       "      <td>10</td>\n",
       "      <td>36</td>\n",
       "      <td>1.0</td>\n",
       "      <td>C</td>\n",
       "      <td>2012-04-04</td>\n",
       "      <td>Sales</td>\n",
       "      <td>Owned</td>\n",
       "      <td>1</td>\n",
       "      <td>NaT</td>\n",
       "      <td>B</td>\n",
       "    </tr>\n",
       "    <tr>\n",
       "      <th>3</th>\n",
       "      <td>1</td>\n",
       "      <td>Existing Client</td>\n",
       "      <td>1982-08-07</td>\n",
       "      <td>2011-08-25</td>\n",
       "      <td>NP_Client</td>\n",
       "      <td>University</td>\n",
       "      <td>Married</td>\n",
       "      <td>3.0</td>\n",
       "      <td>3</td>\n",
       "      <td>36</td>\n",
       "      <td>1.0</td>\n",
       "      <td>C</td>\n",
       "      <td>2011-07-09</td>\n",
       "      <td>Sales</td>\n",
       "      <td>New rent</td>\n",
       "      <td>1</td>\n",
       "      <td>2012-12-31</td>\n",
       "      <td>L</td>\n",
       "    </tr>\n",
       "    <tr>\n",
       "      <th>4</th>\n",
       "      <td>0</td>\n",
       "      <td>Non Existing Client</td>\n",
       "      <td>1953-08-18</td>\n",
       "      <td>2012-10-01</td>\n",
       "      <td>NP_Client</td>\n",
       "      <td>University</td>\n",
       "      <td>Married</td>\n",
       "      <td>2.0</td>\n",
       "      <td>1</td>\n",
       "      <td>36</td>\n",
       "      <td>1.0</td>\n",
       "      <td>C</td>\n",
       "      <td>2012-11-01</td>\n",
       "      <td>Sales</td>\n",
       "      <td>Owned</td>\n",
       "      <td>1</td>\n",
       "      <td>NaT</td>\n",
       "      <td>D</td>\n",
       "    </tr>\n",
       "  </tbody>\n",
       "</table>\n",
       "</div>"
      ],
      "text/plain": [
       "   Y        Customer_Type  BirthDate Customer_Open_Date   P_Client  \\\n",
       "0  0  Non Existing Client 1977-07-08         2012-02-13  NP_Client   \n",
       "1  0      Existing Client 1974-06-13         2009-04-02   P_Client   \n",
       "2  0  Non Existing Client 1973-07-11         2012-03-04  NP_Client   \n",
       "3  1      Existing Client 1982-08-07         2011-08-25  NP_Client   \n",
       "4  0  Non Existing Client 1953-08-18         2012-10-01  NP_Client   \n",
       "\n",
       "  Educational_Level Marital_Status  Number_Of_Dependant  Years_At_Residence  \\\n",
       "0        University        Married                  3.0                   1   \n",
       "1        University        Married                  0.0                  12   \n",
       "2        University        Married                  2.0                  10   \n",
       "3        University        Married                  3.0                   3   \n",
       "4        University        Married                  2.0                   1   \n",
       "\n",
       "  Net_Annual_Income  Years_At_Business Prod_Sub_Category Prod_Decision_Date  \\\n",
       "0                36                1.0                 C         2012-02-14   \n",
       "1                18                2.0                 C         2011-06-30   \n",
       "2                36                1.0                 C         2012-04-04   \n",
       "3                36                1.0                 C         2011-07-09   \n",
       "4                36                1.0                 C         2012-11-01   \n",
       "\n",
       "  Source Type_Of_Residence  Nb_Of_Products Prod_Closed_Date Prod_Category  \n",
       "0  Sales             Owned               1              NaT             B  \n",
       "1  Sales           Parents               1              NaT             G  \n",
       "2  Sales             Owned               1              NaT             B  \n",
       "3  Sales          New rent               1       2012-12-31             L  \n",
       "4  Sales             Owned               1              NaT             D  "
      ]
     },
     "execution_count": 5,
     "metadata": {},
     "output_type": "execute_result"
    }
   ],
   "source": [
    "date_variables = ['BirthDate', 'Customer_Open_Date', 'Prod_Decision_Date', 'Prod_Closed_Date']\n",
    "for var in date_variables:\n",
    "    df[var] = pd.to_datetime(df[var])\n",
    "df.head()"
   ]
  },
  {
   "cell_type": "code",
   "execution_count": null,
   "metadata": {
    "colab": {},
    "colab_type": "code",
    "id": "F77Ms1IhCx4q"
   },
   "outputs": [],
   "source": []
  },
  {
   "cell_type": "markdown",
   "metadata": {
    "colab_type": "text",
    "id": "6e-LCb51Cx41"
   },
   "source": [
    "### c. Categorical variables"
   ]
  },
  {
   "cell_type": "code",
   "execution_count": 6,
   "metadata": {
    "colab": {},
    "colab_type": "code",
    "id": "3svwnyEnCx42"
   },
   "outputs": [],
   "source": [
    "categorical_variables = [ 'Y', 'Customer_Type', 'P_Client', 'Educational_Level', \n",
    "                         'Marital_Status', 'Prod_Sub_Category', 'Source', 'Type_Of_Residence', 'Prod_Category']\n",
    "for var in categorical_variables:\n",
    "    df[var]= df[var].astype('category')"
   ]
  },
  {
   "cell_type": "markdown",
   "metadata": {
    "colab_type": "text",
    "id": "oAr-kyf4Cx49"
   },
   "source": [
    "### d. Numeric variables"
   ]
  },
  {
   "cell_type": "code",
   "execution_count": 7,
   "metadata": {
    "colab": {},
    "colab_type": "code",
    "id": "ZgyzxnzhCx4-"
   },
   "outputs": [],
   "source": [
    "df['Net_Annual_Income'] = df['Net_Annual_Income'].astype('str').apply(lambda x: str(x.replace(',','.')))\n",
    "df['Net_Annual_Income'] = df['Net_Annual_Income'].astype('float')"
   ]
  },
  {
   "cell_type": "code",
   "execution_count": 8,
   "metadata": {
    "colab": {},
    "colab_type": "code",
    "id": "tuqNMLI2Cx5G"
   },
   "outputs": [],
   "source": [
    "numerical_variables = ['Number_Of_Dependant', 'Years_At_Residence', 'Net_Annual_Income',\n",
    "                     'Years_At_Business', 'Nb_Of_Products' ]"
   ]
  },
  {
   "cell_type": "markdown",
   "metadata": {
    "colab_type": "text",
    "id": "Beoq2CadCx5M"
   },
   "source": [
    "### e. Brief overview of the variables\n",
    "\n",
    "First, let see the type and a summary of each column"
   ]
  },
  {
   "cell_type": "code",
   "execution_count": 9,
   "metadata": {
    "colab": {
     "base_uri": "https://localhost:8080/",
     "height": 364
    },
    "colab_type": "code",
    "id": "V2wTSzszCx5Q",
    "outputId": "140d893e-860f-4aea-f6f9-bad012a2cf76"
   },
   "outputs": [
    {
     "name": "stdout",
     "output_type": "stream",
     "text": [
      "Column                         Type                           Number of members\n",
      "------------------------------------------------------------------------------------\n",
      "Y                              category                       2\n",
      "Customer_Type                  category                       2\n",
      "BirthDate                      datetime64[ns]                 4382\n",
      "Customer_Open_Date             datetime64[ns]                 1244\n",
      "P_Client                       category                       2\n",
      "Educational_Level              category                       4\n",
      "Marital_Status                 category                       5\n",
      "Number_Of_Dependant            float64                        12\n",
      "Years_At_Residence             int64                          60\n",
      "Net_Annual_Income              float64                        524\n",
      "Years_At_Business              float64                        46\n",
      "Prod_Sub_Category              category                       3\n",
      "Prod_Decision_Date             datetime64[ns]                 276\n",
      "Source                         category                       2\n",
      "Type_Of_Residence              category                       5\n",
      "Nb_Of_Products                 int64                          3\n",
      "Prod_Closed_Date               datetime64[ns]                 4537\n",
      "Prod_Category                  category                       13\n"
     ]
    }
   ],
   "source": [
    "print(\"{0:30} {1:30} {2}\".format(\"Column\", \"Type\", \"Number of members\"))\n",
    "print(\"------------------------------------------------------------------------------------\")\n",
    "for column in keys:\n",
    "    print(\"{0:30} {1:30} {2}\".format(column, str(df[column].dtypes) , str(len(list(dict.fromkeys(df[column].values))))))"
   ]
  },
  {
   "cell_type": "code",
   "execution_count": 10,
   "metadata": {
    "colab": {
     "base_uri": "https://localhost:8080/",
     "height": 209
    },
    "colab_type": "code",
    "id": "mXozVZ-_Cx5X",
    "outputId": "8c39ed67-150b-4d52-adaa-0d68b99d2f57"
   },
   "outputs": [
    {
     "data": {
      "text/html": [
       "<div>\n",
       "<style scoped>\n",
       "    .dataframe tbody tr th:only-of-type {\n",
       "        vertical-align: middle;\n",
       "    }\n",
       "\n",
       "    .dataframe tbody tr th {\n",
       "        vertical-align: top;\n",
       "    }\n",
       "\n",
       "    .dataframe thead th {\n",
       "        text-align: right;\n",
       "    }\n",
       "</style>\n",
       "<table border=\"1\" class=\"dataframe\">\n",
       "  <thead>\n",
       "    <tr style=\"text-align: right;\">\n",
       "      <th></th>\n",
       "      <th>Y</th>\n",
       "      <th>Customer_Type</th>\n",
       "      <th>P_Client</th>\n",
       "      <th>Educational_Level</th>\n",
       "      <th>Marital_Status</th>\n",
       "      <th>Prod_Sub_Category</th>\n",
       "      <th>Source</th>\n",
       "      <th>Type_Of_Residence</th>\n",
       "      <th>Prod_Category</th>\n",
       "    </tr>\n",
       "  </thead>\n",
       "  <tbody>\n",
       "    <tr>\n",
       "      <th>count</th>\n",
       "      <td>5380</td>\n",
       "      <td>5380</td>\n",
       "      <td>5380</td>\n",
       "      <td>5380</td>\n",
       "      <td>5380</td>\n",
       "      <td>5380</td>\n",
       "      <td>5380</td>\n",
       "      <td>5380</td>\n",
       "      <td>5380</td>\n",
       "    </tr>\n",
       "    <tr>\n",
       "      <th>unique</th>\n",
       "      <td>2</td>\n",
       "      <td>2</td>\n",
       "      <td>2</td>\n",
       "      <td>4</td>\n",
       "      <td>5</td>\n",
       "      <td>3</td>\n",
       "      <td>2</td>\n",
       "      <td>5</td>\n",
       "      <td>13</td>\n",
       "    </tr>\n",
       "    <tr>\n",
       "      <th>top</th>\n",
       "      <td>0</td>\n",
       "      <td>Non Existing Client</td>\n",
       "      <td>NP_Client</td>\n",
       "      <td>University</td>\n",
       "      <td>Married</td>\n",
       "      <td>C</td>\n",
       "      <td>Sales</td>\n",
       "      <td>Owned</td>\n",
       "      <td>B</td>\n",
       "    </tr>\n",
       "    <tr>\n",
       "      <th>freq</th>\n",
       "      <td>4987</td>\n",
       "      <td>3369</td>\n",
       "      <td>4968</td>\n",
       "      <td>4785</td>\n",
       "      <td>4206</td>\n",
       "      <td>4638</td>\n",
       "      <td>4119</td>\n",
       "      <td>4791</td>\n",
       "      <td>3176</td>\n",
       "    </tr>\n",
       "  </tbody>\n",
       "</table>\n",
       "</div>"
      ],
      "text/plain": [
       "           Y        Customer_Type   P_Client Educational_Level Marital_Status  \\\n",
       "count   5380                 5380       5380              5380           5380   \n",
       "unique     2                    2          2                 4              5   \n",
       "top        0  Non Existing Client  NP_Client        University        Married   \n",
       "freq    4987                 3369       4968              4785           4206   \n",
       "\n",
       "       Prod_Sub_Category Source Type_Of_Residence Prod_Category  \n",
       "count               5380   5380              5380          5380  \n",
       "unique                 3      2                 5            13  \n",
       "top                    C  Sales             Owned             B  \n",
       "freq                4638   4119              4791          3176  "
      ]
     },
     "execution_count": 10,
     "metadata": {},
     "output_type": "execute_result"
    }
   ],
   "source": [
    "df.describe(include = 'category')"
   ]
  },
  {
   "cell_type": "code",
   "execution_count": 11,
   "metadata": {
    "colab": {
     "base_uri": "https://localhost:8080/",
     "height": 233
    },
    "colab_type": "code",
    "id": "Eouhg_ohCx5d",
    "outputId": "1eb3405f-5b98-4fa4-b671-8bfc15d94c40"
   },
   "outputs": [
    {
     "data": {
      "text/html": [
       "<div>\n",
       "<style scoped>\n",
       "    .dataframe tbody tr th:only-of-type {\n",
       "        vertical-align: middle;\n",
       "    }\n",
       "\n",
       "    .dataframe tbody tr th {\n",
       "        vertical-align: top;\n",
       "    }\n",
       "\n",
       "    .dataframe thead th {\n",
       "        text-align: right;\n",
       "    }\n",
       "</style>\n",
       "<table border=\"1\" class=\"dataframe\">\n",
       "  <thead>\n",
       "    <tr style=\"text-align: right;\">\n",
       "      <th></th>\n",
       "      <th>BirthDate</th>\n",
       "      <th>Customer_Open_Date</th>\n",
       "      <th>Prod_Decision_Date</th>\n",
       "      <th>Prod_Closed_Date</th>\n",
       "    </tr>\n",
       "  </thead>\n",
       "  <tbody>\n",
       "    <tr>\n",
       "      <th>count</th>\n",
       "      <td>5380</td>\n",
       "      <td>5380</td>\n",
       "      <td>5380</td>\n",
       "      <td>1174</td>\n",
       "    </tr>\n",
       "    <tr>\n",
       "      <th>unique</th>\n",
       "      <td>4382</td>\n",
       "      <td>1244</td>\n",
       "      <td>276</td>\n",
       "      <td>331</td>\n",
       "    </tr>\n",
       "    <tr>\n",
       "      <th>top</th>\n",
       "      <td>1982-01-01 00:00:00</td>\n",
       "      <td>2011-05-12 00:00:00</td>\n",
       "      <td>2011-06-12 00:00:00</td>\n",
       "      <td>2013-05-30 00:00:00</td>\n",
       "    </tr>\n",
       "    <tr>\n",
       "      <th>freq</th>\n",
       "      <td>7</td>\n",
       "      <td>39</td>\n",
       "      <td>48</td>\n",
       "      <td>98</td>\n",
       "    </tr>\n",
       "    <tr>\n",
       "      <th>first</th>\n",
       "      <td>1937-06-12 00:00:00</td>\n",
       "      <td>1982-04-03 00:00:00</td>\n",
       "      <td>2011-01-06 00:00:00</td>\n",
       "      <td>2011-10-31 00:00:00</td>\n",
       "    </tr>\n",
       "    <tr>\n",
       "      <th>last</th>\n",
       "      <td>1990-11-01 00:00:00</td>\n",
       "      <td>2012-12-04 00:00:00</td>\n",
       "      <td>2012-12-04 00:00:00</td>\n",
       "      <td>2013-12-05 00:00:00</td>\n",
       "    </tr>\n",
       "  </tbody>\n",
       "</table>\n",
       "</div>"
      ],
      "text/plain": [
       "                  BirthDate   Customer_Open_Date   Prod_Decision_Date  \\\n",
       "count                  5380                 5380                 5380   \n",
       "unique                 4382                 1244                  276   \n",
       "top     1982-01-01 00:00:00  2011-05-12 00:00:00  2011-06-12 00:00:00   \n",
       "freq                      7                   39                   48   \n",
       "first   1937-06-12 00:00:00  1982-04-03 00:00:00  2011-01-06 00:00:00   \n",
       "last    1990-11-01 00:00:00  2012-12-04 00:00:00  2012-12-04 00:00:00   \n",
       "\n",
       "           Prod_Closed_Date  \n",
       "count                  1174  \n",
       "unique                  331  \n",
       "top     2013-05-30 00:00:00  \n",
       "freq                     98  \n",
       "first   2011-10-31 00:00:00  \n",
       "last    2013-12-05 00:00:00  "
      ]
     },
     "execution_count": 11,
     "metadata": {},
     "output_type": "execute_result"
    }
   ],
   "source": [
    "df.describe(include = 'datetime64[ns]')"
   ]
  },
  {
   "cell_type": "code",
   "execution_count": 12,
   "metadata": {
    "colab": {
     "base_uri": "https://localhost:8080/",
     "height": 294
    },
    "colab_type": "code",
    "id": "xtolW_T8Cx5k",
    "outputId": "7bed3bb5-db61-4be3-da79-cdbf13482c5d"
   },
   "outputs": [
    {
     "data": {
      "text/html": [
       "<div>\n",
       "<style scoped>\n",
       "    .dataframe tbody tr th:only-of-type {\n",
       "        vertical-align: middle;\n",
       "    }\n",
       "\n",
       "    .dataframe tbody tr th {\n",
       "        vertical-align: top;\n",
       "    }\n",
       "\n",
       "    .dataframe thead th {\n",
       "        text-align: right;\n",
       "    }\n",
       "</style>\n",
       "<table border=\"1\" class=\"dataframe\">\n",
       "  <thead>\n",
       "    <tr style=\"text-align: right;\">\n",
       "      <th></th>\n",
       "      <th>Number_Of_Dependant</th>\n",
       "      <th>Years_At_Residence</th>\n",
       "      <th>Net_Annual_Income</th>\n",
       "      <th>Years_At_Business</th>\n",
       "      <th>Nb_Of_Products</th>\n",
       "    </tr>\n",
       "  </thead>\n",
       "  <tbody>\n",
       "    <tr>\n",
       "      <th>count</th>\n",
       "      <td>5378.000000</td>\n",
       "      <td>5380.000000</td>\n",
       "      <td>5378.000000</td>\n",
       "      <td>5378.000000</td>\n",
       "      <td>5380.000000</td>\n",
       "    </tr>\n",
       "    <tr>\n",
       "      <th>mean</th>\n",
       "      <td>1.058572</td>\n",
       "      <td>12.626022</td>\n",
       "      <td>61.181694</td>\n",
       "      <td>4.266270</td>\n",
       "      <td>1.089033</td>\n",
       "    </tr>\n",
       "    <tr>\n",
       "      <th>std</th>\n",
       "      <td>1.339001</td>\n",
       "      <td>9.972164</td>\n",
       "      <td>237.744827</td>\n",
       "      <td>7.225926</td>\n",
       "      <td>0.297587</td>\n",
       "    </tr>\n",
       "    <tr>\n",
       "      <th>min</th>\n",
       "      <td>0.000000</td>\n",
       "      <td>0.000000</td>\n",
       "      <td>0.004000</td>\n",
       "      <td>0.000000</td>\n",
       "      <td>1.000000</td>\n",
       "    </tr>\n",
       "    <tr>\n",
       "      <th>25%</th>\n",
       "      <td>0.000000</td>\n",
       "      <td>4.000000</td>\n",
       "      <td>20.000000</td>\n",
       "      <td>1.000000</td>\n",
       "      <td>1.000000</td>\n",
       "    </tr>\n",
       "    <tr>\n",
       "      <th>50%</th>\n",
       "      <td>0.000000</td>\n",
       "      <td>10.000000</td>\n",
       "      <td>36.000000</td>\n",
       "      <td>1.000000</td>\n",
       "      <td>1.000000</td>\n",
       "    </tr>\n",
       "    <tr>\n",
       "      <th>75%</th>\n",
       "      <td>2.000000</td>\n",
       "      <td>18.000000</td>\n",
       "      <td>36.000000</td>\n",
       "      <td>4.000000</td>\n",
       "      <td>1.000000</td>\n",
       "    </tr>\n",
       "    <tr>\n",
       "      <th>max</th>\n",
       "      <td>20.000000</td>\n",
       "      <td>70.000000</td>\n",
       "      <td>10000.000000</td>\n",
       "      <td>98.000000</td>\n",
       "      <td>3.000000</td>\n",
       "    </tr>\n",
       "  </tbody>\n",
       "</table>\n",
       "</div>"
      ],
      "text/plain": [
       "       Number_Of_Dependant  Years_At_Residence  Net_Annual_Income  \\\n",
       "count          5378.000000         5380.000000        5378.000000   \n",
       "mean              1.058572           12.626022          61.181694   \n",
       "std               1.339001            9.972164         237.744827   \n",
       "min               0.000000            0.000000           0.004000   \n",
       "25%               0.000000            4.000000          20.000000   \n",
       "50%               0.000000           10.000000          36.000000   \n",
       "75%               2.000000           18.000000          36.000000   \n",
       "max              20.000000           70.000000       10000.000000   \n",
       "\n",
       "       Years_At_Business  Nb_Of_Products  \n",
       "count        5378.000000     5380.000000  \n",
       "mean            4.266270        1.089033  \n",
       "std             7.225926        0.297587  \n",
       "min             0.000000        1.000000  \n",
       "25%             1.000000        1.000000  \n",
       "50%             1.000000        1.000000  \n",
       "75%             4.000000        1.000000  \n",
       "max            98.000000        3.000000  "
      ]
     },
     "execution_count": 12,
     "metadata": {},
     "output_type": "execute_result"
    }
   ],
   "source": [
    "df.describe()"
   ]
  },
  {
   "cell_type": "markdown",
   "metadata": {
    "colab_type": "text",
    "id": "N57Rr_wZCx5p"
   },
   "source": [
    "Now, visualize the variables one by one:"
   ]
  },
  {
   "cell_type": "code",
   "execution_count": 13,
   "metadata": {
    "colab": {
     "base_uri": "https://localhost:8080/",
     "height": 745
    },
    "colab_type": "code",
    "id": "1tvhTU_cCx5q",
    "outputId": "edecd88b-858b-4668-fca3-c7d84a73855e"
   },
   "outputs": [
    {
     "name": "stdout",
     "output_type": "stream",
     "text": [
      "0    4987\n",
      "1     393\n",
      "Name: Y, dtype: int64\n",
      "-------\n",
      "Non Existing Client    3369\n",
      "Existing Client        2011\n",
      "Name: Customer_Type, dtype: int64\n",
      "-------\n",
      "NP_Client    4968\n",
      "P_Client      412\n",
      "Name: P_Client, dtype: int64\n",
      "-------\n",
      "University           4785\n",
      "Master/PhD            522\n",
      "Diploma                58\n",
      "Secondary or Less      15\n",
      "Name: Educational_Level, dtype: int64\n",
      "-------\n",
      "Married      4206\n",
      "Single       1046\n",
      "Widowed        64\n",
      "Divorced       63\n",
      "Separated       1\n",
      "Name: Marital_Status, dtype: int64\n",
      "-------\n",
      "C    4638\n",
      "G     624\n",
      "P     118\n",
      "Name: Prod_Sub_Category, dtype: int64\n",
      "-------\n",
      "Sales     4119\n",
      "Branch    1261\n",
      "Name: Source, dtype: int64\n",
      "-------\n",
      "Owned       4791\n",
      "Old rent     323\n",
      "Parents      179\n",
      "New rent      83\n",
      "Company        4\n",
      "Name: Type_Of_Residence, dtype: int64\n",
      "-------\n",
      "B    3176\n",
      "D     670\n",
      "C     517\n",
      "K     265\n",
      "L     236\n",
      "G     188\n",
      "E     101\n",
      "H      79\n",
      "J      71\n",
      "M      49\n",
      "A      19\n",
      "F       5\n",
      "I       4\n",
      "Name: Prod_Category, dtype: int64\n",
      "-------\n"
     ]
    },
    {
     "data": {
      "image/png": "[encoded data removed]",
      "text/plain": [
       "<Figure size 1080x1080 with 9 Axes>"
      ]
     },
     "metadata": {
      "needs_background": "light"
     },
     "output_type": "display_data"
    }
   ],
   "source": [
    "plt.figure(figsize=(15,15))\n",
    "\n",
    "for i,var in enumerate(categorical_variables):\n",
    "    plt.subplot(3,3,i+1)\n",
    "    print(df[var].value_counts())\n",
    "    print('-------')\n",
    "    df[var].value_counts().plot(\"bar\").set_title(var)\n",
    "    hist_data = df.loc[df['Y'] == 1][var].value_counts()\n",
    "    plt.bar(height=hist_data.values, x = hist_data.keys(), width = len(hist_data)/10, color='red')\n",
    "\n",
    "plt.subplots_adjust(hspace = 0.7)\n",
    "plt.show()"
   ]
  },
  {
   "cell_type": "code",
   "execution_count": 14,
   "metadata": {
    "colab": {
     "base_uri": "https://localhost:8080/",
     "height": 850
    },
    "colab_type": "code",
    "id": "ee9S8lBmCx5w",
    "outputId": "e5d4c913-95fa-436c-f302-1d318cdf7c0a"
   },
   "outputs": [
    {
     "data": {
      "image/png": "[encoded data removed]",
      "text/plain": [
       "<Figure size 1080x1080 with 5 Axes>"
      ]
     },
     "metadata": {
      "needs_background": "light"
     },
     "output_type": "display_data"
    }
   ],
   "source": [
    "plt.subplots(figsize=(15,15))\n",
    "\n",
    "for i, var in enumerate(numerical_variables):\n",
    "    fig = plt.subplot(2,3,i+1)\n",
    "    fig.set_title(var)\n",
    "    hist_data = df[var].value_counts()\n",
    "    plt.bar(height=hist_data.values, x = hist_data.keys(), width = len(hist_data)/10)\n",
    "    hist_data = df.loc[df['Y'] == 1][var].value_counts()\n",
    "    plt.bar(height=hist_data.values, x = hist_data.keys(), width = len(hist_data)/10, color='red')\n",
    "    \n",
    "plt.show()"
   ]
  },
  {
   "cell_type": "code",
   "execution_count": 15,
   "metadata": {
    "colab": {
     "base_uri": "https://localhost:8080/",
     "height": 853
    },
    "colab_type": "code",
    "id": "xJ0rt-ZCCx52",
    "outputId": "a46ff7e6-4785-4e08-8be8-5328b85204be"
   },
   "outputs": [
    {
     "data": {
      "image/png": "[encoded data removed]",
      "text/plain": [
       "<Figure size 1080x1080 with 4 Axes>"
      ]
     },
     "metadata": {
      "needs_background": "light"
     },
     "output_type": "display_data"
    }
   ],
   "source": [
    "plt.subplots(figsize=(15,15))\n",
    "\n",
    "for i, var in enumerate(date_variables):\n",
    "    fig = plt.subplot(2,2,i+1)\n",
    "    fig.set_title(var)\n",
    "    hist_data = df[var].value_counts()\n",
    "    plt.bar(height=hist_data.values, x = hist_data.keys(), width =10)\n",
    "    hist_data = df.loc[df['Y'] == 1][var].value_counts()\n",
    "    plt.bar(height=hist_data.values, x = hist_data.keys(), width = len(hist_data)/10, color='red')\n",
    "    \n",
    "plt.show()"
   ]
  },
  {
   "cell_type": "markdown",
   "metadata": {},
   "source": [
    "The field Prod_Closed_Date is really often not attributed, look for further insights:"
   ]
  },
  {
   "cell_type": "code",
   "execution_count": 16,
   "metadata": {},
   "outputs": [
    {
     "name": "stdout",
     "output_type": "stream",
     "text": [
      "4206 NaT\n",
      "0.78% of 1 in the NaT fields\n",
      "30.72% of 1 in the not NaT fields\n"
     ]
    }
   ],
   "source": [
    "count_nat_0 = 0\n",
    "count_nat_1 = 0\n",
    "count_0 = 0\n",
    "count_1 = 1\n",
    "for i in range(len(df)):\n",
    "    if pd.isnull(df['Prod_Closed_Date'][i]):\n",
    "        if df['Y'][i]==0:\n",
    "            count_nat_0 += 1\n",
    "        else:\n",
    "            count_nat_1 +=1\n",
    "    else:\n",
    "        if df['Y'][i]==0:\n",
    "            count_0 += 1\n",
    "        else:\n",
    "            count_1 +=1\n",
    "        \n",
    "print(str(count_nat_0+count_nat_1) + ' NaT')\n",
    "print(str(round(100 * count_nat_1/(count_nat_0 + count_nat_1),2 ) ) + '% of 1 in the NaT fields')\n",
    "print(str(round(100 * count_1/(count_0 + count_1),2 ) ) + '% of 1 in the not NaT fields')"
   ]
  },
  {
   "cell_type": "markdown",
   "metadata": {
    "colab_type": "text",
    "id": "5CLtjzwSCx59"
   },
   "source": [
    "One can observe that:\n",
    "- the count of each variable does not always match the 5380 rows that are intended (because of the NaN). These values have been replaced by the median values\n",
    "- The Prod_Closed_Date field should be filled with a value that is far enough from the others to account for a clear separation\n",
    "- There are some extrapolated values in some numeric features (the net annual income of 10000, or the years at business of 98), that might be good to remove"
   ]
  },
  {
   "cell_type": "markdown",
   "metadata": {
    "colab_type": "text",
    "id": "qzSCa5jdCx5-"
   },
   "source": [
    "### f. Complete and create suitable dataset for training and testing"
   ]
  },
  {
   "cell_type": "markdown",
   "metadata": {
    "colab_type": "text",
    "id": "9JDDdB7lCx5_"
   },
   "source": [
    "First fill the NA fields"
   ]
  },
  {
   "cell_type": "code",
   "execution_count": 17,
   "metadata": {
    "colab": {},
    "colab_type": "code",
    "id": "FzXoMjdoCx5_"
   },
   "outputs": [],
   "source": [
    "for var in ['Number_Of_Dependant', 'Net_Annual_Income', 'Years_At_Business']:\n",
    "    df[var] = df[var].fillna(df[var].mean())"
   ]
  },
  {
   "cell_type": "code",
   "execution_count": 18,
   "metadata": {
    "colab": {},
    "colab_type": "code",
    "id": "9S2L7E4oCx6F"
   },
   "outputs": [],
   "source": [
    "df['Prod_Closed_Date'] = df['Prod_Closed_Date'].fillna(np.datetime64('2015-01-01'))"
   ]
  },
  {
   "cell_type": "markdown",
   "metadata": {
    "colab_type": "text",
    "id": "C2qiRkrvCx6L"
   },
   "source": [
    "Reject unrelevant data"
   ]
  },
  {
   "cell_type": "code",
   "execution_count": 19,
   "metadata": {
    "colab": {},
    "colab_type": "code",
    "id": "DccK2F0PCx6M"
   },
   "outputs": [],
   "source": [
    "df = df.loc[df['Number_Of_Dependant'] < 15].loc[df['Net_Annual_Income'] < 6000 ].loc[df['Years_At_Business']< 80]"
   ]
  },
  {
   "cell_type": "markdown",
   "metadata": {
    "colab_type": "text",
    "id": "J-uFL1PNCx6R"
   },
   "source": [
    "Use catagorical features as a one hot vector"
   ]
  },
  {
   "cell_type": "code",
   "execution_count": 20,
   "metadata": {
    "colab": {
     "base_uri": "https://localhost:8080/",
     "height": 239
    },
    "colab_type": "code",
    "id": "-CgH2QcJCx6S",
    "outputId": "14505fad-5377-4898-f00f-df6729c37a5c"
   },
   "outputs": [
    {
     "data": {
      "text/html": [
       "<div>\n",
       "<style scoped>\n",
       "    .dataframe tbody tr th:only-of-type {\n",
       "        vertical-align: middle;\n",
       "    }\n",
       "\n",
       "    .dataframe tbody tr th {\n",
       "        vertical-align: top;\n",
       "    }\n",
       "\n",
       "    .dataframe thead th {\n",
       "        text-align: right;\n",
       "    }\n",
       "</style>\n",
       "<table border=\"1\" class=\"dataframe\">\n",
       "  <thead>\n",
       "    <tr style=\"text-align: right;\">\n",
       "      <th></th>\n",
       "      <th>Customer_Type_Existing Client</th>\n",
       "      <th>Customer_Type_Non Existing Client</th>\n",
       "      <th>P_Client_NP_Client</th>\n",
       "      <th>P_Client_P_Client</th>\n",
       "      <th>Educational_Level_Diploma</th>\n",
       "      <th>Educational_Level_Master/PhD</th>\n",
       "      <th>Educational_Level_Secondary or Less</th>\n",
       "      <th>Educational_Level_University</th>\n",
       "      <th>Marital_Status_Divorced</th>\n",
       "      <th>Marital_Status_Married</th>\n",
       "      <th>...</th>\n",
       "      <th>Prod_Category_D</th>\n",
       "      <th>Prod_Category_E</th>\n",
       "      <th>Prod_Category_F</th>\n",
       "      <th>Prod_Category_G</th>\n",
       "      <th>Prod_Category_H</th>\n",
       "      <th>Prod_Category_I</th>\n",
       "      <th>Prod_Category_J</th>\n",
       "      <th>Prod_Category_K</th>\n",
       "      <th>Prod_Category_L</th>\n",
       "      <th>Prod_Category_M</th>\n",
       "    </tr>\n",
       "  </thead>\n",
       "  <tbody>\n",
       "    <tr>\n",
       "      <th>0</th>\n",
       "      <td>0</td>\n",
       "      <td>1</td>\n",
       "      <td>1</td>\n",
       "      <td>0</td>\n",
       "      <td>0</td>\n",
       "      <td>0</td>\n",
       "      <td>0</td>\n",
       "      <td>1</td>\n",
       "      <td>0</td>\n",
       "      <td>1</td>\n",
       "      <td>...</td>\n",
       "      <td>0</td>\n",
       "      <td>0</td>\n",
       "      <td>0</td>\n",
       "      <td>0</td>\n",
       "      <td>0</td>\n",
       "      <td>0</td>\n",
       "      <td>0</td>\n",
       "      <td>0</td>\n",
       "      <td>0</td>\n",
       "      <td>0</td>\n",
       "    </tr>\n",
       "    <tr>\n",
       "      <th>1</th>\n",
       "      <td>1</td>\n",
       "      <td>0</td>\n",
       "      <td>0</td>\n",
       "      <td>1</td>\n",
       "      <td>0</td>\n",
       "      <td>0</td>\n",
       "      <td>0</td>\n",
       "      <td>1</td>\n",
       "      <td>0</td>\n",
       "      <td>1</td>\n",
       "      <td>...</td>\n",
       "      <td>0</td>\n",
       "      <td>0</td>\n",
       "      <td>0</td>\n",
       "      <td>1</td>\n",
       "      <td>0</td>\n",
       "      <td>0</td>\n",
       "      <td>0</td>\n",
       "      <td>0</td>\n",
       "      <td>0</td>\n",
       "      <td>0</td>\n",
       "    </tr>\n",
       "    <tr>\n",
       "      <th>2</th>\n",
       "      <td>0</td>\n",
       "      <td>1</td>\n",
       "      <td>1</td>\n",
       "      <td>0</td>\n",
       "      <td>0</td>\n",
       "      <td>0</td>\n",
       "      <td>0</td>\n",
       "      <td>1</td>\n",
       "      <td>0</td>\n",
       "      <td>1</td>\n",
       "      <td>...</td>\n",
       "      <td>0</td>\n",
       "      <td>0</td>\n",
       "      <td>0</td>\n",
       "      <td>0</td>\n",
       "      <td>0</td>\n",
       "      <td>0</td>\n",
       "      <td>0</td>\n",
       "      <td>0</td>\n",
       "      <td>0</td>\n",
       "      <td>0</td>\n",
       "    </tr>\n",
       "    <tr>\n",
       "      <th>3</th>\n",
       "      <td>1</td>\n",
       "      <td>0</td>\n",
       "      <td>1</td>\n",
       "      <td>0</td>\n",
       "      <td>0</td>\n",
       "      <td>0</td>\n",
       "      <td>0</td>\n",
       "      <td>1</td>\n",
       "      <td>0</td>\n",
       "      <td>1</td>\n",
       "      <td>...</td>\n",
       "      <td>0</td>\n",
       "      <td>0</td>\n",
       "      <td>0</td>\n",
       "      <td>0</td>\n",
       "      <td>0</td>\n",
       "      <td>0</td>\n",
       "      <td>0</td>\n",
       "      <td>0</td>\n",
       "      <td>1</td>\n",
       "      <td>0</td>\n",
       "    </tr>\n",
       "    <tr>\n",
       "      <th>4</th>\n",
       "      <td>0</td>\n",
       "      <td>1</td>\n",
       "      <td>1</td>\n",
       "      <td>0</td>\n",
       "      <td>0</td>\n",
       "      <td>0</td>\n",
       "      <td>0</td>\n",
       "      <td>1</td>\n",
       "      <td>0</td>\n",
       "      <td>1</td>\n",
       "      <td>...</td>\n",
       "      <td>1</td>\n",
       "      <td>0</td>\n",
       "      <td>0</td>\n",
       "      <td>0</td>\n",
       "      <td>0</td>\n",
       "      <td>0</td>\n",
       "      <td>0</td>\n",
       "      <td>0</td>\n",
       "      <td>0</td>\n",
       "      <td>0</td>\n",
       "    </tr>\n",
       "  </tbody>\n",
       "</table>\n",
       "<p>5 rows × 36 columns</p>\n",
       "</div>"
      ],
      "text/plain": [
       "   Customer_Type_Existing Client  Customer_Type_Non Existing Client  \\\n",
       "0                              0                                  1   \n",
       "1                              1                                  0   \n",
       "2                              0                                  1   \n",
       "3                              1                                  0   \n",
       "4                              0                                  1   \n",
       "\n",
       "   P_Client_NP_Client  P_Client_P_Client  Educational_Level_Diploma  \\\n",
       "0                   1                  0                          0   \n",
       "1                   0                  1                          0   \n",
       "2                   1                  0                          0   \n",
       "3                   1                  0                          0   \n",
       "4                   1                  0                          0   \n",
       "\n",
       "   Educational_Level_Master/PhD  Educational_Level_Secondary or Less  \\\n",
       "0                             0                                    0   \n",
       "1                             0                                    0   \n",
       "2                             0                                    0   \n",
       "3                             0                                    0   \n",
       "4                             0                                    0   \n",
       "\n",
       "   Educational_Level_University  Marital_Status_Divorced  \\\n",
       "0                             1                        0   \n",
       "1                             1                        0   \n",
       "2                             1                        0   \n",
       "3                             1                        0   \n",
       "4                             1                        0   \n",
       "\n",
       "   Marital_Status_Married  ...  Prod_Category_D  Prod_Category_E  \\\n",
       "0                       1  ...                0                0   \n",
       "1                       1  ...                0                0   \n",
       "2                       1  ...                0                0   \n",
       "3                       1  ...                0                0   \n",
       "4                       1  ...                1                0   \n",
       "\n",
       "   Prod_Category_F  Prod_Category_G  Prod_Category_H  Prod_Category_I  \\\n",
       "0                0                0                0                0   \n",
       "1                0                1                0                0   \n",
       "2                0                0                0                0   \n",
       "3                0                0                0                0   \n",
       "4                0                0                0                0   \n",
       "\n",
       "   Prod_Category_J  Prod_Category_K  Prod_Category_L  Prod_Category_M  \n",
       "0                0                0                0                0  \n",
       "1                0                0                0                0  \n",
       "2                0                0                0                0  \n",
       "3                0                0                1                0  \n",
       "4                0                0                0                0  \n",
       "\n",
       "[5 rows x 36 columns]"
      ]
     },
     "execution_count": 20,
     "metadata": {},
     "output_type": "execute_result"
    }
   ],
   "source": [
    "categorical_variables.remove('Y')\n",
    "categorical_df = pd.get_dummies(df[categorical_variables])\n",
    "categorical_df.head()"
   ]
  },
  {
   "cell_type": "markdown",
   "metadata": {
    "colab_type": "text",
    "id": "fZq-nmvnCx6W"
   },
   "source": [
    "Dates need to be put into a numerical format. To do so, first remark that there is no periodicity (due to the months for instance). Only the information that comes from month and year will be kept"
   ]
  },
  {
   "cell_type": "code",
   "execution_count": 21,
   "metadata": {
    "colab": {},
    "colab_type": "code",
    "id": "-Gr1Zrc_Cx6W"
   },
   "outputs": [],
   "source": [
    "# takes a timestamp: DD/MM/YY and converts it to a scalar\n",
    "def read_date(date):\n",
    "    return date.month/12.0 + date.year"
   ]
  },
  {
   "cell_type": "code",
   "execution_count": 22,
   "metadata": {
    "colab": {
     "base_uri": "https://localhost:8080/",
     "height": 202
    },
    "colab_type": "code",
    "id": "GMiatUYRCx6a",
    "outputId": "78c7f553-9d3b-4055-f6e4-d6ceabf35153"
   },
   "outputs": [
    {
     "data": {
      "text/html": [
       "<div>\n",
       "<style scoped>\n",
       "    .dataframe tbody tr th:only-of-type {\n",
       "        vertical-align: middle;\n",
       "    }\n",
       "\n",
       "    .dataframe tbody tr th {\n",
       "        vertical-align: top;\n",
       "    }\n",
       "\n",
       "    .dataframe thead th {\n",
       "        text-align: right;\n",
       "    }\n",
       "</style>\n",
       "<table border=\"1\" class=\"dataframe\">\n",
       "  <thead>\n",
       "    <tr style=\"text-align: right;\">\n",
       "      <th></th>\n",
       "      <th>BirthDate</th>\n",
       "      <th>Customer_Open_Date</th>\n",
       "      <th>Prod_Decision_Date</th>\n",
       "      <th>Prod_Closed_Date</th>\n",
       "    </tr>\n",
       "  </thead>\n",
       "  <tbody>\n",
       "    <tr>\n",
       "      <th>0</th>\n",
       "      <td>5.299547</td>\n",
       "      <td>1.508975</td>\n",
       "      <td>0.244100</td>\n",
       "      <td>0.469210</td>\n",
       "    </tr>\n",
       "    <tr>\n",
       "      <th>1</th>\n",
       "      <td>2.216213</td>\n",
       "      <td>-1.324359</td>\n",
       "      <td>-0.422567</td>\n",
       "      <td>0.469210</td>\n",
       "    </tr>\n",
       "    <tr>\n",
       "      <th>2</th>\n",
       "      <td>1.299547</td>\n",
       "      <td>1.592308</td>\n",
       "      <td>0.410766</td>\n",
       "      <td>0.469210</td>\n",
       "    </tr>\n",
       "    <tr>\n",
       "      <th>3</th>\n",
       "      <td>10.382880</td>\n",
       "      <td>1.008975</td>\n",
       "      <td>-0.339234</td>\n",
       "      <td>-1.614123</td>\n",
       "    </tr>\n",
       "    <tr>\n",
       "      <th>4</th>\n",
       "      <td>-18.617120</td>\n",
       "      <td>2.175641</td>\n",
       "      <td>0.994100</td>\n",
       "      <td>0.469210</td>\n",
       "    </tr>\n",
       "  </tbody>\n",
       "</table>\n",
       "</div>"
      ],
      "text/plain": [
       "   BirthDate  Customer_Open_Date  Prod_Decision_Date  Prod_Closed_Date\n",
       "0   5.299547            1.508975            0.244100          0.469210\n",
       "1   2.216213           -1.324359           -0.422567          0.469210\n",
       "2   1.299547            1.592308            0.410766          0.469210\n",
       "3  10.382880            1.008975           -0.339234         -1.614123\n",
       "4 -18.617120            2.175641            0.994100          0.469210"
      ]
     },
     "execution_count": 22,
     "metadata": {},
     "output_type": "execute_result"
    }
   ],
   "source": [
    "date_df = pd.DataFrame()\n",
    "for var in date_variables:\n",
    "    date_df[var] = df[var].apply(read_date)\n",
    "    \n",
    "date_df = date_df - date_df.mean()\n",
    "date_df.head()"
   ]
  },
  {
   "cell_type": "markdown",
   "metadata": {
    "colab_type": "text",
    "id": "581jZnDoCx6f"
   },
   "source": [
    "Then numerical data are taken as they are"
   ]
  },
  {
   "cell_type": "code",
   "execution_count": 23,
   "metadata": {
    "colab": {
     "base_uri": "https://localhost:8080/",
     "height": 202
    },
    "colab_type": "code",
    "id": "I7_oChzDCx6g",
    "outputId": "9b0fa644-f78c-40c2-88f4-854785dfd4b2"
   },
   "outputs": [
    {
     "data": {
      "text/html": [
       "<div>\n",
       "<style scoped>\n",
       "    .dataframe tbody tr th:only-of-type {\n",
       "        vertical-align: middle;\n",
       "    }\n",
       "\n",
       "    .dataframe tbody tr th {\n",
       "        vertical-align: top;\n",
       "    }\n",
       "\n",
       "    .dataframe thead th {\n",
       "        text-align: right;\n",
       "    }\n",
       "</style>\n",
       "<table border=\"1\" class=\"dataframe\">\n",
       "  <thead>\n",
       "    <tr style=\"text-align: right;\">\n",
       "      <th></th>\n",
       "      <th>Number_Of_Dependant</th>\n",
       "      <th>Years_At_Residence</th>\n",
       "      <th>Net_Annual_Income</th>\n",
       "      <th>Years_At_Business</th>\n",
       "      <th>Nb_Of_Products</th>\n",
       "    </tr>\n",
       "  </thead>\n",
       "  <tbody>\n",
       "    <tr>\n",
       "      <th>0</th>\n",
       "      <td>3.0</td>\n",
       "      <td>1</td>\n",
       "      <td>36.0</td>\n",
       "      <td>1.0</td>\n",
       "      <td>1</td>\n",
       "    </tr>\n",
       "    <tr>\n",
       "      <th>1</th>\n",
       "      <td>0.0</td>\n",
       "      <td>12</td>\n",
       "      <td>18.0</td>\n",
       "      <td>2.0</td>\n",
       "      <td>1</td>\n",
       "    </tr>\n",
       "    <tr>\n",
       "      <th>2</th>\n",
       "      <td>2.0</td>\n",
       "      <td>10</td>\n",
       "      <td>36.0</td>\n",
       "      <td>1.0</td>\n",
       "      <td>1</td>\n",
       "    </tr>\n",
       "    <tr>\n",
       "      <th>3</th>\n",
       "      <td>3.0</td>\n",
       "      <td>3</td>\n",
       "      <td>36.0</td>\n",
       "      <td>1.0</td>\n",
       "      <td>1</td>\n",
       "    </tr>\n",
       "    <tr>\n",
       "      <th>4</th>\n",
       "      <td>2.0</td>\n",
       "      <td>1</td>\n",
       "      <td>36.0</td>\n",
       "      <td>1.0</td>\n",
       "      <td>1</td>\n",
       "    </tr>\n",
       "  </tbody>\n",
       "</table>\n",
       "</div>"
      ],
      "text/plain": [
       "   Number_Of_Dependant  Years_At_Residence  Net_Annual_Income  \\\n",
       "0                  3.0                   1               36.0   \n",
       "1                  0.0                  12               18.0   \n",
       "2                  2.0                  10               36.0   \n",
       "3                  3.0                   3               36.0   \n",
       "4                  2.0                   1               36.0   \n",
       "\n",
       "   Years_At_Business  Nb_Of_Products  \n",
       "0                1.0               1  \n",
       "1                2.0               1  \n",
       "2                1.0               1  \n",
       "3                1.0               1  \n",
       "4                1.0               1  "
      ]
     },
     "execution_count": 23,
     "metadata": {},
     "output_type": "execute_result"
    }
   ],
   "source": [
    "numerical_df = df[numerical_variables]\n",
    "numerical_df.head()"
   ]
  },
  {
   "cell_type": "markdown",
   "metadata": {
    "colab_type": "text",
    "id": "P46E9PVuCx6k"
   },
   "source": [
    "Create the final dataframe"
   ]
  },
  {
   "cell_type": "code",
   "execution_count": 68,
   "metadata": {
    "colab": {
     "base_uri": "https://localhost:8080/",
     "height": 260
    },
    "colab_type": "code",
    "id": "Vam0n2eQCx6p",
    "outputId": "adfc1320-6f31-4771-9c5e-15b1ea76eeda"
   },
   "outputs": [
    {
     "name": "stdout",
     "output_type": "stream",
     "text": [
      "[0 0 0 ... 0 0 0]\n",
      "[[ 0.          1.          1.         ...  1.5089746   0.24409975\n",
      "   0.46920999]\n",
      " [ 1.          0.          0.         ... -1.32435874 -0.42256692\n",
      "   0.46920999]\n",
      " [ 0.          1.          1.         ...  1.59230793  0.41076641\n",
      "   0.46920999]\n",
      " ...\n",
      " [ 0.          1.          1.         ...  1.0089746  -0.25590025\n",
      "  -1.36412335]\n",
      " [ 0.          1.          1.         ...  1.42564126  0.16076641\n",
      "   0.46920999]\n",
      " [ 0.          1.          1.         ...  1.17564126 -0.08923359\n",
      "   0.46920999]]\n"
     ]
    }
   ],
   "source": [
    "new_df = pd.concat([df['Y'], categorical_df, numerical_df, date_df], axis=1)\n",
    "new_df.head()\n",
    "y = new_df.pop('Y').values.codes\n",
    "X = new_df.values\n",
    "print(y)\n",
    "print(X)"
   ]
  },
  {
   "cell_type": "code",
   "execution_count": 69,
   "metadata": {
    "colab": {},
    "colab_type": "code",
    "id": "c7LA9wevCx6w"
   },
   "outputs": [],
   "source": [
    "X_train, X_test, y_train, y_test = train_test_split(X, y, test_size=0.3)"
   ]
  },
  {
   "cell_type": "markdown",
   "metadata": {
    "colab_type": "text",
    "id": "Mu9dcPN7Cx6z"
   },
   "source": [
    "The training dataset has a vast majority of y=0 cases, because the dataset is not balanced. We can resample the training dataset. To do it, we use the fit_resample method of the imblearn library. Then a more complex method referred to as the Synthetic Minority Oversampling Technique was used: new examples can be synthesized from the existing examples and are used instead of duplicated samples of the mninority class. "
   ]
  },
  {
   "cell_type": "code",
   "execution_count": 70,
   "metadata": {
    "colab": {
     "base_uri": "https://localhost:8080/",
     "height": 72
    },
    "colab_type": "code",
    "id": "fEqVJwSiCx6z",
    "outputId": "e694ddaa-4a35-4fad-8739-51f2416b28c7"
   },
   "outputs": [],
   "source": [
    "ros = RandomOverSampler(random_state=0)\n",
    "X_resampled, y_resampled = ros.fit_resample(X_train, y_train)"
   ]
  },
  {
   "cell_type": "code",
   "execution_count": 71,
   "metadata": {
    "colab": {},
    "colab_type": "code",
    "id": "_vOkdVN1Cx63"
   },
   "outputs": [],
   "source": [
    "X_rspl_train, y_rspl_train = X_resampled, y_resampled\n",
    "# X_rspl_train, X_rspl_test, y_rspl_train, y_rspl_test = train_test_split(X_resampled, y_resampled, test_size=0.0, random_state=42)"
   ]
  },
  {
   "cell_type": "code",
   "execution_count": 72,
   "metadata": {
    "colab": {
     "base_uri": "https://localhost:8080/",
     "height": 72
    },
    "colab_type": "code",
    "id": "6PYTOeBsCx65",
    "outputId": "e4460ad4-5962-41bf-872a-cd5e2308f912"
   },
   "outputs": [],
   "source": [
    "smote = SMOTE(random_state = 40)\n",
    "X_smote, y_smote = smote.fit_resample(X_train, y_train)\n",
    "X_smote_train, y_smote_train = X_smote, y_smote\n",
    "#X_smote_train, X_smote_test, y_smote_train, y_smote_test = train_test_split(X_smote, y_smote, test_size=0.2, random_state=42) "
   ]
  },
  {
   "cell_type": "markdown",
   "metadata": {
    "colab_type": "text",
    "id": "S-dme8ZWCx69"
   },
   "source": [
    "## 2. Feature engineering"
   ]
  },
  {
   "cell_type": "markdown",
   "metadata": {
    "colab_type": "text",
    "id": "7_aysDq1Cx69"
   },
   "source": [
    "### a. Utils"
   ]
  },
  {
   "cell_type": "code",
   "execution_count": 73,
   "metadata": {
    "colab": {},
    "colab_type": "code",
    "id": "jF3rP3DbCx6-"
   },
   "outputs": [],
   "source": [
    "def predict_classes(y, threshold =0.5):\n",
    "    return [0 if yi < threshold else 1 for yi in y]\n",
    "\n",
    "def print_confusion(confusion_matrix):\n",
    "    print('Confusion matrix:')\n",
    "    print(\"{0:20} {1:10} {2}\".format(\"GT \\ Pred\", \"0\", \"1\"))\n",
    "    print(\"{0:20} {1:10} {2}\".format(\"0\", str(confusion_matrix[0,0]), str(confusion_matrix[0,1])))\n",
    "    print(\"{0:20} {1:10} {2}\".format(\"1\", str(confusion_matrix[1,0]) , str(confusion_matrix[1,1])))\n",
    "\n",
    "def score(y_proba_pred):\n",
    "    fpr, tpr, thresholds = roc_curve(y_test,y_proba_pred)\n",
    "    precision, recall, thresholds_bis = precision_recall_curve(y_test,y_proba_pred)\n",
    "    roc_auc = auc(fpr, tpr)\n",
    "    pr_auc = auc(recall, precision)\n",
    "\n",
    "    plt.title('Receiver Operating Characteristic')\n",
    "    plt.plot(fpr, tpr, 'b', label = 'AUC = %0.2f' % roc_auc)\n",
    "    plt.legend(loc = 'lower right')\n",
    "    plt.plot([0, 1], [0, 1],'r--')\n",
    "    plt.xlim([0, 1])\n",
    "    plt.ylim([0, 1])\n",
    "    plt.ylabel('True Positive Rate')\n",
    "    plt.xlabel('False Positive Rate')\n",
    "    plt.show()\n",
    "\n",
    "    plt.title('Precision Recall Curve')\n",
    "    plt.plot(recall, precision, 'b', label = 'AUC = %0.2f' % pr_auc)\n",
    "    plt.legend(loc = 'lower right')\n",
    "    plt.xlim([0, 1])\n",
    "    plt.ylim([0, 1])\n",
    "    plt.ylabel('Precision')\n",
    "    plt.xlabel('Recall')\n",
    "    plt.show()\n",
    "\n",
    "    f1_max = 0\n",
    "    y_pred_max = []\n",
    "    th_max=0\n",
    "    for threshold in np.linspace(start=0.0, stop=1.0, num=1001):\n",
    "        y_pred = predict_classes(y_proba_pred, threshold)\n",
    "        f1 = f1_score(y_test,y_pred)\n",
    "        if f1 > f1_max:\n",
    "            th_max=threshold\n",
    "            f1_max = f1\n",
    "            y_pred_max = y_pred\n",
    "    \n",
    "    print('F1_Score: ' + str(round(f1_max,3)) + ' --- for a threshold of: '+ str(round(th_max,3)))\n",
    "    print_confusion(confusion_matrix(y_test, y_pred_max))"
   ]
  },
  {
   "cell_type": "markdown",
   "metadata": {
    "colab_type": "text",
    "id": "eLO-LfGwCx7B"
   },
   "source": [
    "### b. Scores"
   ]
  },
  {
   "cell_type": "markdown",
   "metadata": {
    "colab_type": "text",
    "id": "wRAA14TZCx7C"
   },
   "source": [
    "We need to be carefull when choosing the metrics we will use to evaluate our models. The dataset is highly unbalanced, thus acurracy is not a good score and can be misleading."
   ]
  },
  {
   "cell_type": "code",
   "execution_count": 74,
   "metadata": {
    "colab": {
     "base_uri": "https://localhost:8080/",
     "height": 0
    },
    "colab_type": "code",
    "id": "iVe6xE_wCx7D",
    "outputId": "774c0169-c4a9-4072-98f2-27309e5fd1f9"
   },
   "outputs": [
    {
     "name": "stdout",
     "output_type": "stream",
     "text": [
      "0.9236499068901304\n"
     ]
    }
   ],
   "source": [
    "y = [0 for k in range(len(y_test))]\n",
    "acc = accuracy_score(y, y_test)\n",
    "print(acc)"
   ]
  },
  {
   "cell_type": "markdown",
   "metadata": {
    "colab_type": "text",
    "id": "y-QEJV_8Cx7G"
   },
   "source": [
    "To have a more accurate way to compare our models, we will use other scoring methods, that allows us to compare the predictions on different classes. Moreover, the user might want to have control over the Sensitivity or the Specifity of the predictions. Therefore, probability output might give more insights than just a classification.\n",
    "\n",
    "Therefore, we will use ROC and Precision-Recall Curve, as well as the F1 score and the confusion matrix, that allows us to control accuracy on both classes."
   ]
  },
  {
   "cell_type": "markdown",
   "metadata": {},
   "source": [
    "#### ROC Curve\n",
    "A useful tool when predicting the probability of a binary outcome is the Receiver Operating Characteristic curve, or ROC curve.\n",
    "It is a plot of the false positive rate (x-axis) versus the true positive rate (y-axis) for a number of different candidate threshold values between 0.0 and 1.0. \n",
    "\n",
    "The true positive rate or sensitivity describes how good the model is at predicting the positive class when the actual outcome is positive. \n",
    "TPR = True Positives / (True Positives + False Negatives)\n",
    "\n",
    "The false positive rate, also referred to as the inverted specificity, summarizes how often a positive class is predicted when the actual outcome is negative.\n",
    "FPR = False Positives / (False Positives + True Negatives)"
   ]
  },
  {
   "cell_type": "markdown",
   "metadata": {},
   "source": [
    "#### Precision-Recall Curve\n",
    "Reviewing both precision and recall is useful in cases where there is an imbalance in the observations between the two classes. Specifically, there are many examples of no event (class 0) and only a few examples of an event (class 1).\n",
    "The reason for this is that typically the large number of class 0 examples means we are less interested in the skill of the model at predicting class 0 correctly, e.g. high true negatives.\n",
    "\n",
    "Precision is a ratio of the number of true positives divided by the sum of the true positives and false positives. It describes how good a model is at predicting the positive class. Precision is referred to as the positive predictive value.\n",
    "Precision = True Positives / (True Positives + False Positives)\n",
    "\n",
    "Recall is calculated as the ratio of the number of true positives divided by the sum of the true positives and the false negatives. Recall is the same as sensitivity."
   ]
  },
  {
   "cell_type": "markdown",
   "metadata": {},
   "source": [
    "#### Scores\n",
    "- F1 score: that calculates the harmonic mean of the precision and recall: F1 = 2 * (precision * recall) / (precision + recall)\n",
    "- Area Under Curve: summarizes the integral or an approximation of the area under the precision-recall curve.\n"
   ]
  },
  {
   "cell_type": "markdown",
   "metadata": {
    "colab_type": "text",
    "id": "fd__n3tgCx7H"
   },
   "source": [
    "### c. Linear models"
   ]
  },
  {
   "cell_type": "markdown",
   "metadata": {
    "colab_type": "text",
    "id": "--hrg-VYCx7H"
   },
   "source": [
    "#### i. Linear Regressions"
   ]
  },
  {
   "cell_type": "markdown",
   "metadata": {},
   "source": [
    "##### Simple linear regression"
   ]
  },
  {
   "cell_type": "code",
   "execution_count": 159,
   "metadata": {
    "colab": {
     "base_uri": "https://localhost:8080/",
     "height": 35
    },
    "colab_type": "code",
    "id": "btUzv_noCx7I",
    "outputId": "995be2f7-e9ee-482c-9b9d-7fb712b4e18e"
   },
   "outputs": [
    {
     "data": {
      "text/plain": [
       "LinearRegression(copy_X=True, fit_intercept=True, n_jobs=None, normalize=False)"
      ]
     },
     "execution_count": 159,
     "metadata": {},
     "output_type": "execute_result"
    }
   ],
   "source": [
    "reg1 = linear_model.LinearRegression()\n",
    "reg1.fit(X_train, y_train)"
   ]
  },
  {
   "cell_type": "code",
   "execution_count": 160,
   "metadata": {
    "colab": {
     "base_uri": "https://localhost:8080/",
     "height": 399
    },
    "colab_type": "code",
    "id": "Ya4jsFW8Cx7M",
    "outputId": "f947b58f-532d-424f-f300-7522184748b7"
   },
   "outputs": [
    {
     "data": {
      "image/png": "[encoded data removed]",
      "text/plain": [
       "<Figure size 432x288 with 1 Axes>"
      ]
     },
     "metadata": {
      "needs_background": "light"
     },
     "output_type": "display_data"
    },
    {
     "data": {
      "image/png": "[encoded data removed]",
      "text/plain": [
       "<Figure size 432x288 with 1 Axes>"
      ]
     },
     "metadata": {
      "needs_background": "light"
     },
     "output_type": "display_data"
    },
    {
     "name": "stdout",
     "output_type": "stream",
     "text": [
      "F1_Score: 0.678 --- for a threshold of: 0.346\n",
      "Confusion matrix:\n",
      "GT \\ Pred            0          1\n",
      "0                    1416       72\n",
      "1                    23         100\n"
     ]
    }
   ],
   "source": [
    "y_proba_pred = reg1.predict(X_test)\n",
    "score(y_proba_pred)"
   ]
  },
  {
   "cell_type": "markdown",
   "metadata": {
    "colab_type": "text",
    "id": "kNCgEdAECx7P"
   },
   "source": [
    "Good ROC AUC, but PR-AUC and F1-score could be better and the precision-recall curve shows a weird trend. In fact the prediction is not as good on 1 (19% are not well-predicted), while the prediction is better on the class 0. We will try to better the results by using the balanced dataset:"
   ]
  },
  {
   "cell_type": "markdown",
   "metadata": {},
   "source": [
    "##### Linear regression with resampled dataset"
   ]
  },
  {
   "cell_type": "code",
   "execution_count": 77,
   "metadata": {
    "colab": {
     "base_uri": "https://localhost:8080/",
     "height": 35
    },
    "colab_type": "code",
    "id": "ku4ycCPoCx7Q",
    "outputId": "8dce7173-086d-4dd9-c465-b4de78919526"
   },
   "outputs": [
    {
     "data": {
      "text/plain": [
       "LinearRegression(copy_X=True, fit_intercept=True, n_jobs=None, normalize=False)"
      ]
     },
     "execution_count": 77,
     "metadata": {},
     "output_type": "execute_result"
    }
   ],
   "source": [
    "reg = linear_model.LinearRegression()\n",
    "reg.fit(X_rspl_train, y_rspl_train)"
   ]
  },
  {
   "cell_type": "code",
   "execution_count": 78,
   "metadata": {
    "colab": {
     "base_uri": "https://localhost:8080/",
     "height": 399
    },
    "colab_type": "code",
    "id": "MBXyADmeCx7U",
    "outputId": "e23c62fb-1681-400b-e165-ef3758654c30"
   },
   "outputs": [
    {
     "data": {
      "image/png": "[encoded data removed]",
      "text/plain": [
       "<Figure size 432x288 with 1 Axes>"
      ]
     },
     "metadata": {
      "needs_background": "light"
     },
     "output_type": "display_data"
    },
    {
     "data": {
      "image/png": "[encoded data removed]",
      "text/plain": [
       "<Figure size 432x288 with 1 Axes>"
      ]
     },
     "metadata": {
      "needs_background": "light"
     },
     "output_type": "display_data"
    },
    {
     "name": "stdout",
     "output_type": "stream",
     "text": [
      "F1_Score: 0.657 --- for a threshold of: 0.76\n",
      "Confusion matrix:\n",
      "GT \\ Pred            0          1\n",
      "0                    1421       67\n",
      "1                    30         93\n"
     ]
    }
   ],
   "source": [
    "y_proba_pred = reg.predict(X_test)\n",
    "score(y_proba_pred)"
   ]
  },
  {
   "cell_type": "markdown",
   "metadata": {
    "colab_type": "text",
    "id": "FrrZZMhaCx7X"
   },
   "source": [
    "Paradoxically, the prediction with the balanced dataset is not as good as before and an improvement can only be seen in the majority class... We will try with the other balanced dataset created with the SMOTE algorithm"
   ]
  },
  {
   "cell_type": "code",
   "execution_count": 79,
   "metadata": {
    "colab": {
     "base_uri": "https://localhost:8080/",
     "height": 35
    },
    "colab_type": "code",
    "id": "WTxRnTeeFCif",
    "outputId": "5a3ba572-f86a-471e-90cd-4a7005b50a5f"
   },
   "outputs": [
    {
     "data": {
      "text/plain": [
       "LinearRegression(copy_X=True, fit_intercept=True, n_jobs=None, normalize=False)"
      ]
     },
     "execution_count": 79,
     "metadata": {},
     "output_type": "execute_result"
    }
   ],
   "source": [
    "reg = linear_model.LinearRegression()\n",
    "reg.fit(X_smote_train, y_smote_train)"
   ]
  },
  {
   "cell_type": "code",
   "execution_count": 80,
   "metadata": {
    "colab": {
     "base_uri": "https://localhost:8080/",
     "height": 399
    },
    "colab_type": "code",
    "id": "RIAOV2RHFHgU",
    "outputId": "02435b61-e7a3-42fe-e447-c6985c5a47f2"
   },
   "outputs": [
    {
     "data": {
      "image/png": "[encoded data removed]",
      "text/plain": [
       "<Figure size 432x288 with 1 Axes>"
      ]
     },
     "metadata": {
      "needs_background": "light"
     },
     "output_type": "display_data"
    },
    {
     "data": {
      "image/png": "[encoded data removed]",
      "text/plain": [
       "<Figure size 432x288 with 1 Axes>"
      ]
     },
     "metadata": {
      "needs_background": "light"
     },
     "output_type": "display_data"
    },
    {
     "name": "stdout",
     "output_type": "stream",
     "text": [
      "F1_Score: 0.66 --- for a threshold of: 0.75\n",
      "Confusion matrix:\n",
      "GT \\ Pred            0          1\n",
      "0                    1412       76\n",
      "1                    25         98\n"
     ]
    }
   ],
   "source": [
    "y_proba_pred = reg.predict(X_test)\n",
    "score(y_proba_pred)"
   ]
  },
  {
   "cell_type": "markdown",
   "metadata": {},
   "source": [
    "As a first insight, we can see that the balanced dataset brings no improvement to the linear model, and that there is not great difference between the two ways in which the balanced datasets were created."
   ]
  },
  {
   "cell_type": "markdown",
   "metadata": {},
   "source": [
    "##### Linear regression with Ridge penalization"
   ]
  },
  {
   "cell_type": "markdown",
   "metadata": {
    "colab_type": "text",
    "id": "mBmRMftgCx8B"
   },
   "source": [
    "Ridge regression imposes a penalty on the size of the coefficients. The ridge coefficients minimize a penalized residual sum of squares:\n",
    "\n",
    "$$ \\min_{w} || X w - y||_2^2 + \\alpha ||w||_2^2 $$\n",
    "\n",
    "Here, we will use cross validation to determine the best parameters. RidgeCV implements ridge regression with built-in cross-validation of the alpha parameter. The object works in the same way as GridSearchCV except that it defaults to Generalized Cross-Validation (GCV), an efficient form of leave-one-out cross-validation."
   ]
  },
  {
   "cell_type": "code",
   "execution_count": 82,
   "metadata": {
    "colab": {
     "base_uri": "https://localhost:8080/",
     "height": 417
    },
    "colab_type": "code",
    "id": "nIRvWzuQCx8B",
    "outputId": "41cb05e7-1659-4f1c-d1a7-4ffcc1e16096"
   },
   "outputs": [
    {
     "data": {
      "image/png": "[encoded data removed]",
      "text/plain": [
       "<Figure size 432x288 with 1 Axes>"
      ]
     },
     "metadata": {
      "needs_background": "light"
     },
     "output_type": "display_data"
    },
    {
     "data": {
      "image/png": "[encoded data removed]",
      "text/plain": [
       "<Figure size 432x288 with 1 Axes>"
      ]
     },
     "metadata": {
      "needs_background": "light"
     },
     "output_type": "display_data"
    },
    {
     "name": "stdout",
     "output_type": "stream",
     "text": [
      "F1_Score: 0.678 --- for a threshold of: 0.34\n",
      "Confusion matrix:\n",
      "GT \\ Pred            0          1\n",
      "0                    1414       74\n",
      "1                    22         101\n"
     ]
    }
   ],
   "source": [
    "ridge_reg = linear_model.RidgeCV(alphas=np.logspace(-6, 6, 13))\n",
    "ridge_reg.fit(X_train, y_train)\n",
    "\n",
    "y_proba_pred = ridge_reg.predict(X_test)\n",
    "score(y_proba_pred)"
   ]
  },
  {
   "cell_type": "markdown",
   "metadata": {
    "colab_type": "text",
    "id": "T81IZ4YxCx8A"
   },
   "source": [
    "##### Linear Regression with Lasso penalization"
   ]
  },
  {
   "cell_type": "markdown",
   "metadata": {
    "colab_type": "text",
    "id": "HVn5EH9ZCx8G"
   },
   "source": [
    "Lasso regression consists of a linear model with an added regularization term. The lasso estimate solves the minimization of the least-squares penalty with $\\alpha ||w||_1$ added, where $\\alpha$ is a constant and $||w||_1$ is the $\\ell_1$-norm of the coefficient vector. The objective function to minimize is:\n",
    " $$ \\min_{w} { \\frac{1}{2n_{\\text{samples}}} ||X w - y||_2 ^ 2 + \\alpha ||w||_1} $$\n",
    " \n",
    " Here again, we will use cross validation to determine the best parameters."
   ]
  },
  {
   "cell_type": "code",
   "execution_count": 84,
   "metadata": {
    "colab": {
     "base_uri": "https://localhost:8080/",
     "height": 417
    },
    "colab_type": "code",
    "id": "CA84ILsaCx8G",
    "outputId": "c40d34d6-a96b-44bf-93b9-a990c3102202"
   },
   "outputs": [
    {
     "data": {
      "image/png": "[encoded data removed]",
      "text/plain": [
       "<Figure size 432x288 with 1 Axes>"
      ]
     },
     "metadata": {
      "needs_background": "light"
     },
     "output_type": "display_data"
    },
    {
     "data": {
      "image/png": "[encoded data removed]",
      "text/plain": [
       "<Figure size 432x288 with 1 Axes>"
      ]
     },
     "metadata": {
      "needs_background": "light"
     },
     "output_type": "display_data"
    },
    {
     "name": "stdout",
     "output_type": "stream",
     "text": [
      "F1_Score: 0.678 --- for a threshold of: 0.34\n",
      "Confusion matrix:\n",
      "GT \\ Pred            0          1\n",
      "0                    1414       74\n",
      "1                    22         101\n"
     ]
    }
   ],
   "source": [
    "lasso_reg = linear_model.LassoCV(alphas=np.logspace(-6, 6, 13))\n",
    "lasso_reg.fit(X_train, y_train)\n",
    "\n",
    "y_proba_pred = ridge_reg.predict(X_test)\n",
    "score(y_proba_pred)"
   ]
  },
  {
   "cell_type": "markdown",
   "metadata": {},
   "source": [
    "Regularizations bring little improvement on the test set. "
   ]
  },
  {
   "cell_type": "markdown",
   "metadata": {
    "colab_type": "text",
    "id": "wbUpVZrwCx7Y"
   },
   "source": [
    "#### ii. Logistic Regressions\n",
    "\n",
    "Now let us use a regression which is more fitted to classification: the logistic regression"
   ]
  },
  {
   "cell_type": "markdown",
   "metadata": {},
   "source": [
    "##### Simple logistic regression"
   ]
  },
  {
   "cell_type": "code",
   "execution_count": 163,
   "metadata": {
    "colab": {
     "base_uri": "https://localhost:8080/",
     "height": 263
    },
    "colab_type": "code",
    "id": "duygr_XDCx7Y",
    "outputId": "a0ebfbaf-ab02-4c04-c61e-6776d58bdef2"
   },
   "outputs": [
    {
     "name": "stderr",
     "output_type": "stream",
     "text": [
      "C:\\Users\\pierr\\Anaconda3\\lib\\site-packages\\sklearn\\linear_model\\_logistic.py:940: ConvergenceWarning: lbfgs failed to converge (status=1):\n",
      "STOP: TOTAL NO. of ITERATIONS REACHED LIMIT.\n",
      "\n",
      "Increase the number of iterations (max_iter) or scale the data as shown in:\n",
      "    https://scikit-learn.org/stable/modules/preprocessing.html\n",
      "Please also refer to the documentation for alternative solver options:\n",
      "    https://scikit-learn.org/stable/modules/linear_model.html#logistic-regression\n",
      "  extra_warning_msg=_LOGISTIC_SOLVER_CONVERGENCE_MSG)\n"
     ]
    },
    {
     "data": {
      "text/plain": [
       "LogisticRegression(C=1.0, class_weight='balanced', dual=False,\n",
       "                   fit_intercept=True, intercept_scaling=1, l1_ratio=None,\n",
       "                   max_iter=100, multi_class='auto', n_jobs=None, penalty='l2',\n",
       "                   random_state=None, solver='lbfgs', tol=0.0001, verbose=0,\n",
       "                   warm_start=False)"
      ]
     },
     "execution_count": 163,
     "metadata": {},
     "output_type": "execute_result"
    }
   ],
   "source": [
    "logreg1 = linear_model.LogisticRegression(class_weight = 'balanced') # The “balanced” mode uses the values of y to automatically adjust weights\n",
    "logreg1.fit(X_train, y_train)"
   ]
  },
  {
   "cell_type": "code",
   "execution_count": 164,
   "metadata": {
    "colab": {
     "base_uri": "https://localhost:8080/",
     "height": 399
    },
    "colab_type": "code",
    "id": "Mji-lEHMCx7b",
    "outputId": "d6898d89-3a57-4567-bb2a-04f76bb6ed14"
   },
   "outputs": [
    {
     "data": {
      "image/png": "[encoded data removed]",
      "text/plain": [
       "<Figure size 432x288 with 1 Axes>"
      ]
     },
     "metadata": {
      "needs_background": "light"
     },
     "output_type": "display_data"
    },
    {
     "data": {
      "image/png": "[encoded data removed]",
      "text/plain": [
       "<Figure size 432x288 with 1 Axes>"
      ]
     },
     "metadata": {
      "needs_background": "light"
     },
     "output_type": "display_data"
    },
    {
     "name": "stdout",
     "output_type": "stream",
     "text": [
      "F1_Score: 0.657 --- for a threshold of: 0.818\n",
      "Confusion matrix:\n",
      "GT \\ Pred            0          1\n",
      "0                    1423       65\n",
      "1                    31         92\n"
     ]
    }
   ],
   "source": [
    "y_proba_pred = logreg1.predict_proba(X_test)[:,1] # We need to use the predict proba function and not the predict one for ROC and Precision-Recall Curves\n",
    "score(y_proba_pred)"
   ]
  },
  {
   "cell_type": "markdown",
   "metadata": {
    "colab_type": "text",
    "id": "TShNbVTpCx7i"
   },
   "source": [
    "##### Logistic regression using over-sampled train set"
   ]
  },
  {
   "cell_type": "code",
   "execution_count": 94,
   "metadata": {
    "colab": {
     "base_uri": "https://localhost:8080/",
     "height": 104
    },
    "colab_type": "code",
    "id": "UgjMBYChCx7j",
    "outputId": "4c0b7b41-4794-4434-a822-ccf91fc57895"
   },
   "outputs": [
    {
     "name": "stderr",
     "output_type": "stream",
     "text": [
      "C:\\Users\\pierr\\Anaconda3\\lib\\site-packages\\sklearn\\linear_model\\_logistic.py:940: ConvergenceWarning: lbfgs failed to converge (status=1):\n",
      "STOP: TOTAL NO. of ITERATIONS REACHED LIMIT.\n",
      "\n",
      "Increase the number of iterations (max_iter) or scale the data as shown in:\n",
      "    https://scikit-learn.org/stable/modules/preprocessing.html\n",
      "Please also refer to the documentation for alternative solver options:\n",
      "    https://scikit-learn.org/stable/modules/linear_model.html#logistic-regression\n",
      "  extra_warning_msg=_LOGISTIC_SOLVER_CONVERGENCE_MSG)\n"
     ]
    },
    {
     "data": {
      "text/plain": [
       "LogisticRegression(C=1.0, class_weight=None, dual=False, fit_intercept=True,\n",
       "                   intercept_scaling=1, l1_ratio=None, max_iter=100,\n",
       "                   multi_class='auto', n_jobs=None, penalty='l2',\n",
       "                   random_state=None, solver='lbfgs', tol=0.0001, verbose=0,\n",
       "                   warm_start=False)"
      ]
     },
     "execution_count": 94,
     "metadata": {},
     "output_type": "execute_result"
    }
   ],
   "source": [
    "logreg = linear_model.LogisticRegression() #The “balanced” mode uses the values of y to automatically adjust weights\n",
    "logreg.fit(X_rspl_train, y_rspl_train)"
   ]
  },
  {
   "cell_type": "code",
   "execution_count": 95,
   "metadata": {
    "colab": {
     "base_uri": "https://localhost:8080/",
     "height": 399
    },
    "colab_type": "code",
    "id": "IAL723B7Cx7q",
    "outputId": "028f114b-e449-4baa-abaa-7591ca56531b"
   },
   "outputs": [
    {
     "data": {
      "image/png": "[encoded data removed]",
      "text/plain": [
       "<Figure size 432x288 with 1 Axes>"
      ]
     },
     "metadata": {
      "needs_background": "light"
     },
     "output_type": "display_data"
    },
    {
     "data": {
      "image/png": "[encoded data removed]",
      "text/plain": [
       "<Figure size 432x288 with 1 Axes>"
      ]
     },
     "metadata": {
      "needs_background": "light"
     },
     "output_type": "display_data"
    },
    {
     "name": "stdout",
     "output_type": "stream",
     "text": [
      "F1_Score: 0.651 --- for a threshold of: 0.817\n",
      "Confusion matrix:\n",
      "GT \\ Pred            0          1\n",
      "0                    1408       80\n",
      "1                    25         98\n"
     ]
    }
   ],
   "source": [
    "y_proba_pred = logreg.predict_proba(X_test)[:,1]\n",
    "score(y_proba_pred)"
   ]
  },
  {
   "cell_type": "code",
   "execution_count": 96,
   "metadata": {
    "colab": {
     "base_uri": "https://localhost:8080/",
     "height": 104
    },
    "colab_type": "code",
    "id": "E5sETwbnFkl1",
    "outputId": "e8c8f390-5194-46f6-e083-b2030ec5b55b"
   },
   "outputs": [
    {
     "name": "stderr",
     "output_type": "stream",
     "text": [
      "C:\\Users\\pierr\\Anaconda3\\lib\\site-packages\\sklearn\\linear_model\\_logistic.py:940: ConvergenceWarning: lbfgs failed to converge (status=1):\n",
      "STOP: TOTAL NO. of ITERATIONS REACHED LIMIT.\n",
      "\n",
      "Increase the number of iterations (max_iter) or scale the data as shown in:\n",
      "    https://scikit-learn.org/stable/modules/preprocessing.html\n",
      "Please also refer to the documentation for alternative solver options:\n",
      "    https://scikit-learn.org/stable/modules/linear_model.html#logistic-regression\n",
      "  extra_warning_msg=_LOGISTIC_SOLVER_CONVERGENCE_MSG)\n"
     ]
    },
    {
     "data": {
      "text/plain": [
       "LogisticRegression(C=1.0, class_weight=None, dual=False, fit_intercept=True,\n",
       "                   intercept_scaling=1, l1_ratio=None, max_iter=100,\n",
       "                   multi_class='auto', n_jobs=None, penalty='l2',\n",
       "                   random_state=None, solver='lbfgs', tol=0.0001, verbose=0,\n",
       "                   warm_start=False)"
      ]
     },
     "execution_count": 96,
     "metadata": {},
     "output_type": "execute_result"
    }
   ],
   "source": [
    "#using train set obtained with SMOTE over-sampling\n",
    "logreg = linear_model.LogisticRegression() #The “balanced” mode uses the values of y to automatically adjust weights\n",
    "logreg.fit(X_smote_train, y_smote_train)"
   ]
  },
  {
   "cell_type": "code",
   "execution_count": 98,
   "metadata": {
    "colab": {
     "base_uri": "https://localhost:8080/",
     "height": 399
    },
    "colab_type": "code",
    "id": "p7Chzat-F2xx",
    "outputId": "e05bfc63-c947-4448-d3b4-c1701c2af8a4"
   },
   "outputs": [
    {
     "data": {
      "image/png": "[encoded data removed]",
      "text/plain": [
       "<Figure size 432x288 with 1 Axes>"
      ]
     },
     "metadata": {
      "needs_background": "light"
     },
     "output_type": "display_data"
    },
    {
     "data": {
      "image/png": "[encoded data removed]",
      "text/plain": [
       "<Figure size 432x288 with 1 Axes>"
      ]
     },
     "metadata": {
      "needs_background": "light"
     },
     "output_type": "display_data"
    },
    {
     "name": "stdout",
     "output_type": "stream",
     "text": [
      "F1_Score: 0.662 --- for a threshold of: 0.83\n",
      "Confusion matrix:\n",
      "GT \\ Pred            0          1\n",
      "0                    1409       79\n",
      "1                    23         100\n"
     ]
    }
   ],
   "source": [
    "y_proba_pred = logreg.predict_proba(X_test)[:,1]\n",
    "score(y_proba_pred)"
   ]
  },
  {
   "cell_type": "markdown",
   "metadata": {
    "colab_type": "text",
    "id": "HYRNtQNACx7w"
   },
   "source": [
    "Using the over-sampling method sligthly decrease the F1 score of the prediction results (maybe because they are already taken into account by the class_weight argument), we will not use them for later.\n",
    "Now, let's try different penalization. The logistic regression implemented in scikit-learn offers l1 and l2 penalty. We will try both regularization and we will perform cross validation with a range of different parameters. "
   ]
  },
  {
   "cell_type": "markdown",
   "metadata": {
    "colab_type": "text",
    "id": "STPBUykFCx7x"
   },
   "source": [
    "##### Logictic regression with l1 penalty (Lasso regularization)"
   ]
  },
  {
   "cell_type": "markdown",
   "metadata": {
    "colab_type": "text",
    "id": "mHOpC7QCCx7x"
   },
   "source": [
    " L1 penalized logistic regression minimizes the following cost function: \n",
    "\n",
    "$$ \\min_{w, c} \\|w\\|_1 + C \\sum_{i=1}^n \\log(\\exp(- y_i (X_i^T w + c)) + 1) $$"
   ]
  },
  {
   "cell_type": "code",
   "execution_count": 99,
   "metadata": {
    "colab": {
     "base_uri": "https://localhost:8080/",
     "height": 417
    },
    "colab_type": "code",
    "id": "cxtQA2F3Cx7y",
    "outputId": "d9cdb27e-236b-4c79-8b53-a2ec793b8da4"
   },
   "outputs": [
    {
     "name": "stdout",
     "output_type": "stream",
     "text": [
      "100\n"
     ]
    },
    {
     "data": {
      "image/png": "[encoded data removed]",
      "text/plain": [
       "<Figure size 432x288 with 1 Axes>"
      ]
     },
     "metadata": {
      "needs_background": "light"
     },
     "output_type": "display_data"
    },
    {
     "data": {
      "image/png": "[encoded data removed]",
      "text/plain": [
       "<Figure size 432x288 with 1 Axes>"
      ]
     },
     "metadata": {
      "needs_background": "light"
     },
     "output_type": "display_data"
    },
    {
     "name": "stdout",
     "output_type": "stream",
     "text": [
      "F1_Score: 0.635 --- for a threshold of: 0.82\n",
      "Confusion matrix:\n",
      "GT \\ Pred            0          1\n",
      "0                    1407       81\n",
      "1                    28         95\n"
     ]
    }
   ],
   "source": [
    "logistic = linear_model.LogisticRegression(class_weight = 'balanced', penalty ='l1', solver = 'liblinear')\n",
    "parameters = {'C': [1e-10, 1e-7, 1e-5, 1e-4, 1e-3, 1e-2, 1e-1, 1, 2, 5, 10, 100, 1000]} #parameter C is th inverse of regularization strength\n",
    "logistic_regressor = GridSearchCV(logistic, parameters, scoring='f1_weighted')\n",
    "logistic_regressor.fit(X_train, y_train)\n",
    "C = logistic_regressor.best_params_['C']\n",
    "print(C)\n",
    "\n",
    "log_reg = linear_model.LogisticRegression(class_weight = 'balanced', penalty ='l1', C=C, solver = 'liblinear')\n",
    "log_reg.fit(X_train, y_train)\n",
    "\n",
    "y_proba_pred = log_reg.predict_proba(X_test)[:,1]\n",
    "score(y_proba_pred)"
   ]
  },
  {
   "cell_type": "markdown",
   "metadata": {
    "colab_type": "text",
    "id": "Y1JQCQ07Cx73"
   },
   "source": [
    "##### Logictic regression with l2 penalty (Ridge regularisation)"
   ]
  },
  {
   "cell_type": "markdown",
   "metadata": {
    "colab_type": "text",
    "id": "F9rSfXnGCx74"
   },
   "source": [
    "L2 penalized logistic regression minimizes the following cost function:\n",
    "\n",
    "$$ \\min_{w, c} \\frac{1}{2}w^T w + C \\sum_{i=1}^n \\log(\\exp(- y_i (X_i^T w + c)) + 1) $$"
   ]
  },
  {
   "cell_type": "code",
   "execution_count": 100,
   "metadata": {
    "colab": {
     "base_uri": "https://localhost:8080/",
     "height": 575
    },
    "colab_type": "code",
    "id": "Hwm429uwCx75",
    "outputId": "2214cfc5-7735-41ec-c810-3210954f6190"
   },
   "outputs": [
    {
     "name": "stdout",
     "output_type": "stream",
     "text": [
      "50\n"
     ]
    },
    {
     "name": "stderr",
     "output_type": "stream",
     "text": [
      "C:\\Users\\pierr\\Anaconda3\\lib\\site-packages\\sklearn\\linear_model\\_logistic.py:940: ConvergenceWarning: lbfgs failed to converge (status=1):\n",
      "STOP: TOTAL NO. of ITERATIONS REACHED LIMIT.\n",
      "\n",
      "Increase the number of iterations (max_iter) or scale the data as shown in:\n",
      "    https://scikit-learn.org/stable/modules/preprocessing.html\n",
      "Please also refer to the documentation for alternative solver options:\n",
      "    https://scikit-learn.org/stable/modules/linear_model.html#logistic-regression\n",
      "  extra_warning_msg=_LOGISTIC_SOLVER_CONVERGENCE_MSG)\n"
     ]
    },
    {
     "data": {
      "image/png": "[encoded data removed]",
      "text/plain": [
       "<Figure size 432x288 with 1 Axes>"
      ]
     },
     "metadata": {
      "needs_background": "light"
     },
     "output_type": "display_data"
    },
    {
     "data": {
      "image/png": "[encoded data removed]",
      "text/plain": [
       "<Figure size 432x288 with 1 Axes>"
      ]
     },
     "metadata": {
      "needs_background": "light"
     },
     "output_type": "display_data"
    },
    {
     "name": "stdout",
     "output_type": "stream",
     "text": [
      "F1_Score: 0.639 --- for a threshold of: 0.829\n",
      "Confusion matrix:\n",
      "GT \\ Pred            0          1\n",
      "0                    1413       75\n",
      "1                    30         93\n"
     ]
    }
   ],
   "source": [
    "logistic = linear_model.LogisticRegression(class_weight = 'balanced', penalty ='l2', solver = 'lbfgs', max_iter = 10000)\n",
    "parameters = {'C': [1e-10, 1e-7, 1e-5, 1e-4, 1e-3, 1e-2, 1e-1, 1, 2, 5, 10, 50]} \n",
    "logistic_regressor = GridSearchCV(logistic, parameters, scoring='f1_weighted', cv=5)\n",
    "logistic_regressor.fit(X_train, y_train)\n",
    "C = logistic_regressor.best_params_['C']\n",
    "print(C)\n",
    "\n",
    "log_reg = linear_model.LogisticRegression(class_weight = 'balanced', penalty ='l2', C=C, solver = 'lbfgs')\n",
    "log_reg.fit(X_train, y_train)\n",
    "\n",
    "y_proba_pred = log_reg.predict_proba(X_test)[:,1]\n",
    "score(y_proba_pred)"
   ]
  },
  {
   "cell_type": "markdown",
   "metadata": {
    "colab_type": "text",
    "id": "ceX5WoZWCx78"
   },
   "source": [
    "##### Logictic regression with elasticnet penalty \n"
   ]
  },
  {
   "cell_type": "markdown",
   "metadata": {
    "colab_type": "text",
    "id": "DEA-OTOhCx79"
   },
   "source": [
    "Elastic-Net regularization is a combination of l1 and l2 penalization, and minimizes the following cost function:\n",
    "\n",
    "$$  \\min_{w, c} \\frac{1 - \\rho}{2}w^T w + \\rho \\|w\\|_1 + C \\sum_{i=1}^n \\log(\\exp(- y_i (X_i^T w + c)) + 1) $$"
   ]
  },
  {
   "cell_type": "code",
   "execution_count": 47,
   "metadata": {
    "colab": {
     "base_uri": "https://localhost:8080/",
     "height": 1000
    },
    "colab_type": "code",
    "id": "5LFQLlJGCx79",
    "outputId": "796cb93e-fc12-4718-c72b-9011f508b46e"
   },
   "outputs": [
    {
     "data": {
      "text/plain": [
       "\"\\nlogistic = linear_model.LogisticRegression(class_weight = 'balanced', penalty ='elasticnet', solver = 'saga', max_iter = 2000)\\nparameters = {'C': [1e-4, 1e-2, 1e-1, 1, 10, 50], 'l1_ratio': [0.2, 0.4, 0.6, 0.8]}\\nlogistic_regressor = GridSearchCV(logistic, parameters, scoring='balanced_accuracy')\\nlogistic_regressor.fit(X_train, y_train)\\nC = logistic_regressor.best_params_['C']\\nprint(C)\\nl1_ratio = logistic_regressor.best_params_['l1_ratio']\\n\\nlog_reg = linear_model.LogisticRegression(class_weight = 'balanced', penalty ='elasticnet', C=C, l1_ratio=l1_ratio, solver = 'saga')\\nlog_reg.fit(X_train, y_train)\\n\\ny_proba_pred = log_reg.predict_proba(X_test)[:,1]\\nscore(y_proba_pred)\\n\""
      ]
     },
     "execution_count": 47,
     "metadata": {},
     "output_type": "execute_result"
    }
   ],
   "source": [
    "### Needs time to compute ...\n",
    "'''\n",
    "logistic = linear_model.LogisticRegression(class_weight = 'balanced', penalty ='elasticnet', solver = 'saga', max_iter = 2000)\n",
    "parameters = {'C': [1e-4, 1e-2, 1e-1, 1, 10, 50], 'l1_ratio': [0.2, 0.4, 0.6, 0.8]}\n",
    "logistic_regressor = GridSearchCV(logistic, parameters, scoring='balanced_accuracy')\n",
    "logistic_regressor.fit(X_train, y_train)\n",
    "C = logistic_regressor.best_params_['C']\n",
    "print(C)\n",
    "l1_ratio = logistic_regressor.best_params_['l1_ratio']\n",
    "\n",
    "log_reg = linear_model.LogisticRegression(class_weight = 'balanced', penalty ='elasticnet', C=C, l1_ratio=l1_ratio, solver = 'saga')\n",
    "log_reg.fit(X_train, y_train)\n",
    "\n",
    "y_proba_pred = log_reg.predict_proba(X_test)[:,1]\n",
    "score(y_proba_pred)\n",
    "'''"
   ]
  },
  {
   "cell_type": "markdown",
   "metadata": {},
   "source": [
    "#### Sum-Up\n",
    "As a summary, one can see that linear models already gives good results regarding to the ROC AUC (around 0.93 and 0.94 for the best model). Using a balanced dataset does not seem to improve the results, and the regularizations have little impact. At the end of the day, the best model is the simple linear regression with a F1 of 0.678, a ROC-AUC of 0.94 and a PR-AUC of 0.68.\n",
    "\n",
    "Now let's try other classification methods."
   ]
  },
  {
   "cell_type": "markdown",
   "metadata": {
    "colab_type": "text",
    "id": "LNZQ1IQnCx8L"
   },
   "source": [
    "### d. Neural Networks"
   ]
  },
  {
   "cell_type": "markdown",
   "metadata": {},
   "source": [
    "To prevent from overfitting, we use an early stopping method on the accuracy of the validation dataset. Finally, we are using the logarithmic loss function (binary_crossentropy) during training, the preferred loss function for binary classification problems. The model also uses the efficient Adam optimization algorithm for gradient descent and accuracy metrics will be collected when the model is trained"
   ]
  },
  {
   "cell_type": "code",
   "execution_count": 165,
   "metadata": {
    "colab": {},
    "colab_type": "code",
    "id": "vPXD4eaKCx8L",
    "scrolled": true
   },
   "outputs": [
    {
     "name": "stdout",
     "output_type": "stream",
     "text": [
      "Train on 3756 samples, validate on 1611 samples\n",
      "Epoch 1/50\n",
      " - 2s - loss: 0.4832 - acc: 0.8797 - val_loss: 0.2110 - val_acc: 0.9230\n",
      "Epoch 2/50\n",
      " - 1s - loss: 0.2062 - acc: 0.9289 - val_loss: 0.1861 - val_acc: 0.9361\n",
      "Epoch 3/50\n",
      " - 1s - loss: 0.1718 - acc: 0.9310 - val_loss: 0.2515 - val_acc: 0.9243\n",
      "Epoch 4/50\n",
      " - 1s - loss: 0.1876 - acc: 0.9326 - val_loss: 0.1476 - val_acc: 0.9410\n",
      "Epoch 5/50\n",
      " - 1s - loss: 0.1545 - acc: 0.9388 - val_loss: 0.1438 - val_acc: 0.9385\n",
      "Epoch 6/50\n",
      " - 1s - loss: 0.1586 - acc: 0.9409 - val_loss: 0.3499 - val_acc: 0.9243\n",
      "Epoch 7/50\n",
      " - 1s - loss: 0.1902 - acc: 0.9340 - val_loss: 0.1448 - val_acc: 0.9423\n",
      "Epoch 8/50\n",
      " - 1s - loss: 0.1476 - acc: 0.9441 - val_loss: 0.1383 - val_acc: 0.9423\n",
      "Epoch 9/50\n",
      " - 1s - loss: 0.1561 - acc: 0.9433 - val_loss: 0.1412 - val_acc: 0.9448\n",
      "Epoch 10/50\n",
      " - 1s - loss: 0.1485 - acc: 0.9430 - val_loss: 0.1340 - val_acc: 0.9485\n",
      "Epoch 11/50\n",
      " - 1s - loss: 0.1583 - acc: 0.9414 - val_loss: 0.1632 - val_acc: 0.9342\n",
      "Epoch 12/50\n",
      " - 0s - loss: 0.1543 - acc: 0.9417 - val_loss: 0.1357 - val_acc: 0.9448\n",
      "Epoch 13/50\n",
      " - 1s - loss: 0.1371 - acc: 0.9507 - val_loss: 0.1558 - val_acc: 0.9354\n",
      "Epoch 14/50\n",
      " - 1s - loss: 0.1469 - acc: 0.9449 - val_loss: 0.2593 - val_acc: 0.9243\n",
      "Epoch 15/50\n",
      " - 1s - loss: 0.1484 - acc: 0.9406 - val_loss: 0.1311 - val_acc: 0.9534\n",
      "Epoch 16/50\n",
      " - 1s - loss: 0.1432 - acc: 0.9436 - val_loss: 0.1379 - val_acc: 0.9435\n",
      "Epoch 17/50\n",
      " - 1s - loss: 0.1386 - acc: 0.9491 - val_loss: 0.1374 - val_acc: 0.9435\n",
      "Epoch 18/50\n",
      " - 1s - loss: 0.1402 - acc: 0.9446 - val_loss: 0.1289 - val_acc: 0.9503\n",
      "Epoch 19/50\n",
      " - 1s - loss: 0.1995 - acc: 0.9393 - val_loss: 0.1657 - val_acc: 0.9392\n",
      "Epoch 20/50\n",
      " - 1s - loss: 0.1560 - acc: 0.9457 - val_loss: 0.1403 - val_acc: 0.9454\n",
      "Epoch 21/50\n",
      " - 1s - loss: 0.1441 - acc: 0.9452 - val_loss: 0.1328 - val_acc: 0.9454\n",
      "Epoch 22/50\n",
      " - 1s - loss: 0.1444 - acc: 0.9465 - val_loss: 0.1351 - val_acc: 0.9472\n",
      "Epoch 23/50\n",
      " - 1s - loss: 0.1360 - acc: 0.9483 - val_loss: 0.1335 - val_acc: 0.9491\n",
      "Epoch 24/50\n",
      " - 1s - loss: 0.1265 - acc: 0.9494 - val_loss: 0.1343 - val_acc: 0.9497\n",
      "Epoch 25/50\n",
      " - 1s - loss: 0.1489 - acc: 0.9460 - val_loss: 0.1356 - val_acc: 0.9516\n",
      "Epoch 26/50\n",
      " - 1s - loss: 0.1353 - acc: 0.9462 - val_loss: 0.1343 - val_acc: 0.9392\n",
      "Epoch 27/50\n",
      " - 1s - loss: 0.1490 - acc: 0.9449 - val_loss: 0.1434 - val_acc: 0.9503\n",
      "Epoch 28/50\n",
      " - 1s - loss: 0.1347 - acc: 0.9499 - val_loss: 0.1322 - val_acc: 0.9491\n",
      "Epoch 00028: early stopping\n"
     ]
    },
    {
     "data": {
      "text/plain": [
       "<tensorflow.python.keras.callbacks.History at 0x1cb190ed1d0>"
      ]
     },
     "execution_count": 165,
     "metadata": {},
     "output_type": "execute_result"
    }
   ],
   "source": [
    "layers = [\n",
    "    keras.layers.Dense(128, activation=\"relu\"),\n",
    "    keras.layers.Dense(1, activation=\"sigmoid\") # to get a 0-1 probability as a prediction\n",
    "]\n",
    "\n",
    "nn_model = keras.Sequential(layers)\n",
    "\n",
    "nn_model.compile(optimizer='adam',\n",
    "                 loss='binary_crossentropy',\n",
    "                 metrics=['accuracy'])\n",
    "\n",
    "es_callback = keras.callbacks.EarlyStopping(monitor='val_loss', verbose=1, patience = 10)\n",
    "\n",
    "nn_model.fit(X_train, y_train, validation_data=(X_test, y_test), epochs= 50, callbacks=[es_callback], verbose=2)"
   ]
  },
  {
   "cell_type": "code",
   "execution_count": 166,
   "metadata": {},
   "outputs": [
    {
     "data": {
      "image/png": "[encoded data removed]",
      "text/plain": [
       "<Figure size 432x288 with 1 Axes>"
      ]
     },
     "metadata": {
      "needs_background": "light"
     },
     "output_type": "display_data"
    },
    {
     "data": {
      "image/png": "[encoded data removed]",
      "text/plain": [
       "<Figure size 432x288 with 1 Axes>"
      ]
     },
     "metadata": {
      "needs_background": "light"
     },
     "output_type": "display_data"
    },
    {
     "name": "stdout",
     "output_type": "stream",
     "text": [
      "F1_Score: 0.65 --- for a threshold of: 0.35\n",
      "Confusion matrix:\n",
      "GT \\ Pred            0          1\n",
      "0                    1424       64\n",
      "1                    33         90\n"
     ]
    }
   ],
   "source": [
    "y_proba_pred = nn_model.predict(X_test)\n",
    "score(y_proba_pred)"
   ]
  },
  {
   "cell_type": "markdown",
   "metadata": {},
   "source": [
    "The neural network gives results with score in the same order as the linear regression, with a good F1 score of 0.66 and good AUC's for both ROC curve and Precision-Recall curves in comparison to scores obtained with some linear regression. Now we can try with a resampling method."
   ]
  },
  {
   "cell_type": "code",
   "execution_count": 145,
   "metadata": {
    "scrolled": true
   },
   "outputs": [
    {
     "name": "stdout",
     "output_type": "stream",
     "text": [
      "Train on 6972 samples, validate on 1611 samples\n",
      "Epoch 1/50\n",
      " - 1s - loss: 0.0589 - acc: 0.9831 - val_loss: 0.3833 - val_acc: 0.9174\n",
      "Epoch 2/50\n",
      " - 1s - loss: 0.0913 - acc: 0.9750 - val_loss: 0.4195 - val_acc: 0.9224\n",
      "Epoch 3/50\n",
      " - 1s - loss: 0.0595 - acc: 0.9841 - val_loss: 0.3735 - val_acc: 0.9205\n",
      "Epoch 4/50\n",
      " - 1s - loss: 0.0605 - acc: 0.9821 - val_loss: 0.4233 - val_acc: 0.9063\n",
      "Epoch 5/50\n",
      " - 1s - loss: 0.0852 - acc: 0.9786 - val_loss: 0.3845 - val_acc: 0.9187\n",
      "Epoch 6/50\n",
      " - 1s - loss: 0.0642 - acc: 0.9831 - val_loss: 0.3900 - val_acc: 0.9162\n",
      "Epoch 7/50\n",
      " - 1s - loss: 0.0552 - acc: 0.9849 - val_loss: 0.4309 - val_acc: 0.9050\n",
      "Epoch 8/50\n",
      " - 1s - loss: 0.0650 - acc: 0.9816 - val_loss: 0.4497 - val_acc: 0.8970\n",
      "Epoch 9/50\n",
      " - 1s - loss: 0.0574 - acc: 0.9832 - val_loss: 0.3997 - val_acc: 0.9106\n",
      "Epoch 10/50\n",
      " - 1s - loss: 0.0518 - acc: 0.9855 - val_loss: 0.3786 - val_acc: 0.9218\n",
      "Epoch 11/50\n",
      " - 1s - loss: 0.0523 - acc: 0.9862 - val_loss: 0.3910 - val_acc: 0.9112\n",
      "Epoch 12/50\n",
      " - 1s - loss: 0.0516 - acc: 0.9842 - val_loss: 0.3928 - val_acc: 0.9205\n",
      "Epoch 13/50\n",
      " - 1s - loss: 0.0512 - acc: 0.9862 - val_loss: 0.4169 - val_acc: 0.9075\n",
      "Epoch 00013: early stopping\n"
     ]
    },
    {
     "data": {
      "text/plain": [
       "<tensorflow.python.keras.callbacks.History at 0x1cb16ea47f0>"
      ]
     },
     "execution_count": 145,
     "metadata": {},
     "output_type": "execute_result"
    }
   ],
   "source": [
    "nn_model2 = keras.Sequential(layers)\n",
    "\n",
    "nn_model2.compile(optimizer='adam',\n",
    "                 loss='binary_crossentropy',\n",
    "                 metrics=['accuracy'])\n",
    "\n",
    "nn_model2.fit(X_rspl_train, y_rspl_train, validation_data=(X_test, y_test), epochs= 50, callbacks=[es_callback], verbose=2)"
   ]
  },
  {
   "cell_type": "code",
   "execution_count": 146,
   "metadata": {},
   "outputs": [
    {
     "data": {
      "image/png": "[encoded data removed]",
      "text/plain": [
       "<Figure size 432x288 with 1 Axes>"
      ]
     },
     "metadata": {
      "needs_background": "light"
     },
     "output_type": "display_data"
    },
    {
     "data": {
      "image/png": "[encoded data removed]",
      "text/plain": [
       "<Figure size 432x288 with 1 Axes>"
      ]
     },
     "metadata": {
      "needs_background": "light"
     },
     "output_type": "display_data"
    },
    {
     "name": "stdout",
     "output_type": "stream",
     "text": [
      "F1_Score: 0.531 --- for a threshold of: 0.714\n",
      "Confusion matrix:\n",
      "GT \\ Pred            0          1\n",
      "0                    1412       76\n",
      "1                    51         72\n"
     ]
    }
   ],
   "source": [
    "y_proba_pred = nn_model.predict(X_test)\n",
    "score(y_proba_pred)"
   ]
  },
  {
   "cell_type": "markdown",
   "metadata": {},
   "source": [
    "The resampling does not bring any improvement."
   ]
  },
  {
   "cell_type": "markdown",
   "metadata": {},
   "source": [
    "### e. Support Vector Machines"
   ]
  },
  {
   "cell_type": "markdown",
   "metadata": {},
   "source": [
    "We will try 2 kernels: the linear one and the rbf one (the polynomial one does not seem to converge and takes too much time to compute)"
   ]
  },
  {
   "cell_type": "code",
   "execution_count": 147,
   "metadata": {},
   "outputs": [
    {
     "data": {
      "text/plain": [
       "SVC(C=1.0, break_ties=False, cache_size=200, class_weight=None, coef0=0.0,\n",
       "    decision_function_shape='ovr', degree=3, gamma='scale', kernel='linear',\n",
       "    max_iter=-1, probability=True, random_state=None, shrinking=True, tol=0.001,\n",
       "    verbose=False)"
      ]
     },
     "execution_count": 147,
     "metadata": {},
     "output_type": "execute_result"
    }
   ],
   "source": [
    "clf = svm.SVC(probability=True, kernel='linear')\n",
    "clf.fit(X_train, y_train)"
   ]
  },
  {
   "cell_type": "code",
   "execution_count": 148,
   "metadata": {
    "scrolled": true
   },
   "outputs": [
    {
     "data": {
      "image/png": "[encoded data removed]",
      "text/plain": [
       "<Figure size 432x288 with 1 Axes>"
      ]
     },
     "metadata": {
      "needs_background": "light"
     },
     "output_type": "display_data"
    },
    {
     "data": {
      "image/png": "[encoded data removed]",
      "text/plain": [
       "<Figure size 432x288 with 1 Axes>"
      ]
     },
     "metadata": {
      "needs_background": "light"
     },
     "output_type": "display_data"
    },
    {
     "name": "stdout",
     "output_type": "stream",
     "text": [
      "F1_Score: 0.662 --- for a threshold of: 0.241\n",
      "Confusion matrix:\n",
      "GT \\ Pred            0          1\n",
      "0                    1417       71\n",
      "1                    27         96\n"
     ]
    }
   ],
   "source": [
    "y_proba_pred = clf.predict_proba(X_test)[:,1]\n",
    "score(y_proba_pred)"
   ]
  },
  {
   "cell_type": "code",
   "execution_count": null,
   "metadata": {},
   "outputs": [],
   "source": [
    "clf = svm.SVC(probability = True, kernel='rbf')\n",
    "clf.fit(X_rspl_train, y_rspl_train)"
   ]
  },
  {
   "cell_type": "code",
   "execution_count": null,
   "metadata": {
    "scrolled": true
   },
   "outputs": [],
   "source": [
    "y_proba_pred = clf.predict_proba(X_test)[:,1]\n",
    "score(y_proba_pred)"
   ]
  },
  {
   "cell_type": "markdown",
   "metadata": {},
   "source": [
    "As we can see, the SVM classifier with linear kernel works as well as the neural network."
   ]
  },
  {
   "cell_type": "markdown",
   "metadata": {
    "colab_type": "text",
    "id": "l5bnt003Cx8Q"
   },
   "source": [
    "### f. Random Forest"
   ]
  },
  {
   "cell_type": "markdown",
   "metadata": {},
   "source": [
    "##### Simple random forest with and without the SMOTE & Resampled train set"
   ]
  },
  {
   "cell_type": "code",
   "execution_count": 149,
   "metadata": {
    "colab": {
     "base_uri": "https://localhost:8080/",
     "height": 399
    },
    "colab_type": "code",
    "id": "sFN1gzYgCx8Q",
    "outputId": "10027ba5-644d-4e99-cc66-c1f2094b269f"
   },
   "outputs": [
    {
     "data": {
      "image/png": "[encoded data removed]",
      "text/plain": [
       "<Figure size 432x288 with 1 Axes>"
      ]
     },
     "metadata": {
      "needs_background": "light"
     },
     "output_type": "display_data"
    },
    {
     "data": {
      "image/png": "[encoded data removed]",
      "text/plain": [
       "<Figure size 432x288 with 1 Axes>"
      ]
     },
     "metadata": {
      "needs_background": "light"
     },
     "output_type": "display_data"
    },
    {
     "name": "stdout",
     "output_type": "stream",
     "text": [
      "F1_Score: 0.658 --- for a threshold of: 0.321\n",
      "Confusion matrix:\n",
      "GT \\ Pred            0          1\n",
      "0                    1409       79\n",
      "1                    24         99\n"
     ]
    }
   ],
   "source": [
    "rf = RandomForestClassifier(class_weight='balanced')\n",
    "rf.fit(X_rspl_train, y_rspl_train)\n",
    "y_proba_pred = rf.predict_proba(X_test)[:,1]\n",
    "score(y_proba_pred)"
   ]
  },
  {
   "cell_type": "code",
   "execution_count": 150,
   "metadata": {},
   "outputs": [
    {
     "data": {
      "image/png": "[encoded data removed]",
      "text/plain": [
       "<Figure size 432x288 with 1 Axes>"
      ]
     },
     "metadata": {
      "needs_background": "light"
     },
     "output_type": "display_data"
    },
    {
     "data": {
      "image/png": "[encoded data removed]",
      "text/plain": [
       "<Figure size 432x288 with 1 Axes>"
      ]
     },
     "metadata": {
      "needs_background": "light"
     },
     "output_type": "display_data"
    },
    {
     "name": "stdout",
     "output_type": "stream",
     "text": [
      "F1_Score: 0.65 --- for a threshold of: 0.341\n",
      "Confusion matrix:\n",
      "GT \\ Pred            0          1\n",
      "0                    1418       70\n",
      "1                    30         93\n"
     ]
    }
   ],
   "source": [
    "rf = RandomForestClassifier(class_weight='balanced')\n",
    "rf.fit(X_smote_train, y_smote_train)\n",
    "y_proba_pred = rf.predict_proba(X_test)[:,1]\n",
    "score(y_proba_pred)"
   ]
  },
  {
   "cell_type": "code",
   "execution_count": 152,
   "metadata": {},
   "outputs": [
    {
     "data": {
      "image/png": "[encoded data removed]",
      "text/plain": [
       "<Figure size 432x288 with 1 Axes>"
      ]
     },
     "metadata": {
      "needs_background": "light"
     },
     "output_type": "display_data"
    },
    {
     "data": {
      "image/png": "[encoded data removed]",
      "text/plain": [
       "<Figure size 432x288 with 1 Axes>"
      ]
     },
     "metadata": {
      "needs_background": "light"
     },
     "output_type": "display_data"
    },
    {
     "name": "stdout",
     "output_type": "stream",
     "text": [
      "F1_Score: 0.656 --- for a threshold of: 0.211\n",
      "Confusion matrix:\n",
      "GT \\ Pred            0          1\n",
      "0                    1406       82\n",
      "1                    23         100\n"
     ]
    }
   ],
   "source": [
    "rf = RandomForestClassifier()\n",
    "rf.fit(X_train, y_train)\n",
    "y_proba_pred = rf.predict_proba(X_test)[:,1]\n",
    "score(y_proba_pred)"
   ]
  },
  {
   "cell_type": "markdown",
   "metadata": {
    "colab_type": "text",
    "id": "PnnKK6DHCx8T"
   },
   "source": [
    "Although the AUC scores are pretty high, the confusion matrix shows that the accuracy is different for the two classes and that the classifier really often fails to predict the 1. In addition, the rspl dataset seems to give better results than the SMOTE one for the forest, so we will use this one for parameters tuning;\n",
    "Let's find the optimal parameters for the forest using cross validation. "
   ]
  },
  {
   "cell_type": "markdown",
   "metadata": {},
   "source": [
    "##### Parameters tuning"
   ]
  },
  {
   "cell_type": "code",
   "execution_count": 153,
   "metadata": {
    "colab": {
     "base_uri": "https://localhost:8080/",
     "height": 347
    },
    "colab_type": "code",
    "id": "jKqesgN4Cx8U",
    "outputId": "33610d06-816d-4e4a-9997-b9f0587febb7"
   },
   "outputs": [
    {
     "data": {
      "text/plain": [
       "{'bootstrap': True,\n",
       " 'ccp_alpha': 0.0,\n",
       " 'class_weight': None,\n",
       " 'criterion': 'gini',\n",
       " 'max_depth': None,\n",
       " 'max_features': 'auto',\n",
       " 'max_leaf_nodes': None,\n",
       " 'max_samples': None,\n",
       " 'min_impurity_decrease': 0.0,\n",
       " 'min_impurity_split': None,\n",
       " 'min_samples_leaf': 1,\n",
       " 'min_samples_split': 2,\n",
       " 'min_weight_fraction_leaf': 0.0,\n",
       " 'n_estimators': 100,\n",
       " 'n_jobs': None,\n",
       " 'oob_score': False,\n",
       " 'random_state': None,\n",
       " 'verbose': 0,\n",
       " 'warm_start': False}"
      ]
     },
     "execution_count": 153,
     "metadata": {},
     "output_type": "execute_result"
    }
   ],
   "source": [
    "rf.get_params()"
   ]
  },
  {
   "cell_type": "code",
   "execution_count": 155,
   "metadata": {
    "colab": {
     "base_uri": "https://localhost:8080/",
     "height": 555
    },
    "colab_type": "code",
    "id": "GaG6UIQKCx8d",
    "outputId": "ab5c5e39-bd76-45c3-d225-5fbef79023a9"
   },
   "outputs": [
    {
     "name": "stdout",
     "output_type": "stream",
     "text": [
      "Fitting 5 folds for each of 10 candidates, totalling 50 fits\n"
     ]
    },
    {
     "name": "stderr",
     "output_type": "stream",
     "text": [
      "[Parallel(n_jobs=-1)]: Using backend LokyBackend with 8 concurrent workers.\n",
      "[Parallel(n_jobs=-1)]: Done  50 out of  50 | elapsed:   20.0s finished\n"
     ]
    },
    {
     "data": {
      "text/plain": [
       "RandomizedSearchCV(cv=None, error_score=nan,\n",
       "                   estimator=RandomForestClassifier(bootstrap=True,\n",
       "                                                    ccp_alpha=0.0,\n",
       "                                                    class_weight=None,\n",
       "                                                    criterion='gini',\n",
       "                                                    max_depth=None,\n",
       "                                                    max_features='auto',\n",
       "                                                    max_leaf_nodes=None,\n",
       "                                                    max_samples=None,\n",
       "                                                    min_impurity_decrease=0.0,\n",
       "                                                    min_impurity_split=None,\n",
       "                                                    min_samples_leaf=1,\n",
       "                                                    min_samples_split=2,\n",
       "                                                    min_weight_fraction_leaf=0.0,\n",
       "                                                    n_estimators=100,\n",
       "                                                    n_j...\n",
       "                   param_distributions={'bootstrap': [True, False],\n",
       "                                        'class_weight': ['balanced'],\n",
       "                                        'max_depth': [5, 10, 15, 20, 25, 30, 35,\n",
       "                                                      40, 45, 50, None],\n",
       "                                        'max_features': ['auto', 'sqrt'],\n",
       "                                        'min_samples_leaf': [1, 3, 5, 7, 9],\n",
       "                                        'min_samples_split': [2, 5, 8, 11, 14],\n",
       "                                        'n_estimators': [10, 120, 230, 340, 450,\n",
       "                                                         560, 670, 780, 890,\n",
       "                                                         1000]},\n",
       "                   pre_dispatch='2*n_jobs', random_state=42, refit=True,\n",
       "                   return_train_score=False, scoring=None, verbose=2)"
      ]
     },
     "execution_count": 155,
     "metadata": {},
     "output_type": "execute_result"
    }
   ],
   "source": [
    "#Randomnized Search Cross Validation\n",
    "# create random grid parameters to be explored\n",
    "RF_classifier = RandomForestClassifier()\n",
    "\n",
    "n_estimators = [int(x) for x in np.linspace(start = 10, stop = 1000, num = 10)]\n",
    "max_features = ['auto', 'sqrt']\n",
    "max_depth = [int(x) for x in np.linspace(5, 50, num = 10)]\n",
    "max_depth.append(None)\n",
    "min_samples_split = [2, 5, 8, 11, 14]\n",
    "min_samples_leaf = [1, 3, 5, 7, 9]\n",
    "bootstrap = [True, False]\n",
    "\n",
    "grid_random = {'n_estimators': n_estimators,\n",
    "               'max_features': max_features,\n",
    "               'max_depth': max_depth,\n",
    "               'min_samples_split': min_samples_split,\n",
    "               'min_samples_leaf': min_samples_leaf,\n",
    "               'bootstrap': bootstrap,\n",
    "               'class_weight' : ['balanced']}\n",
    "\n",
    "# random search of parameters\n",
    "RF_random = RandomizedSearchCV(estimator = RF_classifier, param_distributions = grid_random, verbose=2, random_state=42, n_jobs = -1)\n",
    "\n",
    "# fit the randomnized search CV\n",
    "RF_random.fit(X_train, y_train)"
   ]
  },
  {
   "cell_type": "code",
   "execution_count": 156,
   "metadata": {
    "colab": {
     "base_uri": "https://localhost:8080/",
     "height": 399
    },
    "colab_type": "code",
    "id": "qlvTO8BRCx8f",
    "outputId": "7b14ffc7-b6c4-4fed-eb73-6a8fdbeb258f"
   },
   "outputs": [
    {
     "name": "stdout",
     "output_type": "stream",
     "text": [
      "Fitting 5 folds for each of 54 candidates, totalling 270 fits\n"
     ]
    },
    {
     "name": "stderr",
     "output_type": "stream",
     "text": [
      "[Parallel(n_jobs=-1)]: Using backend LokyBackend with 8 concurrent workers.\n",
      "[Parallel(n_jobs=-1)]: Done  25 tasks      | elapsed:    9.0s\n",
      "[Parallel(n_jobs=-1)]: Done 146 tasks      | elapsed:   43.3s\n",
      "[Parallel(n_jobs=-1)]: Done 270 out of 270 | elapsed:  1.3min finished\n"
     ]
    },
    {
     "data": {
      "text/plain": [
       "{'bootstrap': False,\n",
       " 'ccp_alpha': 0.0,\n",
       " 'class_weight': 'balanced',\n",
       " 'criterion': 'gini',\n",
       " 'max_depth': 30,\n",
       " 'max_features': 'sqrt',\n",
       " 'max_leaf_nodes': None,\n",
       " 'max_samples': None,\n",
       " 'min_impurity_decrease': 0.0,\n",
       " 'min_impurity_split': None,\n",
       " 'min_samples_leaf': 3,\n",
       " 'min_samples_split': 8,\n",
       " 'min_weight_fraction_leaf': 0.0,\n",
       " 'n_estimators': 230,\n",
       " 'n_jobs': None,\n",
       " 'oob_score': False,\n",
       " 'random_state': None,\n",
       " 'verbose': 0,\n",
       " 'warm_start': False}"
      ]
     },
     "execution_count": 156,
     "metadata": {},
     "output_type": "execute_result"
    }
   ],
   "source": [
    "# Starting Grid Search Cross Validation to find optimal Random Forest Classfifier...\n",
    "# create the parameter grid based on the results of random search \n",
    "# varying slightly the optimised parameters found\n",
    "if (RF_random.best_params_['max_depth'] == None):\n",
    "    max_depth = [None]\n",
    "else: \n",
    "    max_depth = [RF_random.best_params_['max_depth']-1, RF_random.best_params_['max_depth'], \n",
    "                 RF_random.best_params_['max_depth']+1]\n",
    "\n",
    "grid_parameters = {\n",
    "    'bootstrap': [RF_random.best_params_['bootstrap']],\n",
    "    'max_depth': max_depth, \n",
    "    'max_features': [RF_random.best_params_['max_features']],\n",
    "    'min_samples_leaf': [RF_random.best_params_['min_samples_leaf'],\n",
    "                         RF_random.best_params_['min_samples_leaf']+1,\n",
    "                         RF_random.best_params_['min_samples_leaf']+2],\n",
    "    'min_samples_split': [RF_random.best_params_['min_samples_split'],\n",
    "                  RF_random.best_params_['min_samples_split']+1],\n",
    "    'n_estimators': [RF_random.best_params_['n_estimators']-10,\n",
    "                  RF_random.best_params_['n_estimators'],\n",
    "                  RF_random.best_params_['n_estimators']+10],\n",
    "     'class_weight' : ['balanced']\n",
    "}\n",
    "\n",
    "# create a new random forest classifier\n",
    "RF = RandomForestClassifier(class_weight='balanced')\n",
    "# create grid search model\n",
    "grid_search = GridSearchCV(estimator = RF, param_grid = grid_parameters, n_jobs = -1, verbose = 2)\n",
    "# train grid search model\n",
    "grid_search.fit(X_train, y_train)\n",
    "\n",
    "# best Random Forest Classifer\n",
    "final_RF = grid_search.best_estimator_\n",
    "final_RF.get_params()"
   ]
  },
  {
   "cell_type": "code",
   "execution_count": 157,
   "metadata": {
    "colab": {
     "base_uri": "https://localhost:8080/",
     "height": 156
    },
    "colab_type": "code",
    "id": "hmEjud9NCx8i",
    "outputId": "b58d0f1f-2ed3-4418-f408-421aa48aa848"
   },
   "outputs": [
    {
     "data": {
      "text/plain": [
       "RandomForestClassifier(bootstrap=False, ccp_alpha=0.0, class_weight='balanced',\n",
       "                       criterion='gini', max_depth=30, max_features='sqrt',\n",
       "                       max_leaf_nodes=None, max_samples=None,\n",
       "                       min_impurity_decrease=0.0, min_impurity_split=None,\n",
       "                       min_samples_leaf=3, min_samples_split=8,\n",
       "                       min_weight_fraction_leaf=0.0, n_estimators=230,\n",
       "                       n_jobs=None, oob_score=False, random_state=None,\n",
       "                       verbose=0, warm_start=False)"
      ]
     },
     "execution_count": 157,
     "metadata": {},
     "output_type": "execute_result"
    }
   ],
   "source": [
    "final_RF.fit(X_train, y_train)"
   ]
  },
  {
   "cell_type": "code",
   "execution_count": 158,
   "metadata": {
    "colab": {
     "base_uri": "https://localhost:8080/",
     "height": 399
    },
    "colab_type": "code",
    "id": "iWs1ouHQCx8m",
    "outputId": "7aed9566-705d-4ec7-ce69-14534473a28a"
   },
   "outputs": [
    {
     "data": {
      "image/png": "[encoded data removed]",
      "text/plain": [
       "<Figure size 432x288 with 1 Axes>"
      ]
     },
     "metadata": {
      "needs_background": "light"
     },
     "output_type": "display_data"
    },
    {
     "data": {
      "image/png": "[encoded data removed]",
      "text/plain": [
       "<Figure size 432x288 with 1 Axes>"
      ]
     },
     "metadata": {
      "needs_background": "light"
     },
     "output_type": "display_data"
    },
    {
     "name": "stdout",
     "output_type": "stream",
     "text": [
      "F1_Score: 0.657 --- for a threshold of: 0.528\n",
      "Confusion matrix:\n",
      "GT \\ Pred            0          1\n",
      "0                    1419       69\n",
      "1                    29         94\n"
     ]
    }
   ],
   "source": [
    "y_proba_pred = final_RF.predict_proba(X_test)[:,1]\n",
    "score(y_proba_pred)"
   ]
  },
  {
   "cell_type": "markdown",
   "metadata": {},
   "source": [
    "### g. Ensembling\n",
    "Now we will combine some of our models by putting regressions as a parameter of the input dataset."
   ]
  },
  {
   "cell_type": "code",
   "execution_count": 174,
   "metadata": {},
   "outputs": [
    {
     "data": {
      "image/png": "[encoded data removed]",
      "text/plain": [
       "<Figure size 432x288 with 1 Axes>"
      ]
     },
     "metadata": {
      "needs_background": "light"
     },
     "output_type": "display_data"
    },
    {
     "data": {
      "image/png": "[encoded data removed]",
      "text/plain": [
       "<Figure size 432x288 with 1 Axes>"
      ]
     },
     "metadata": {
      "needs_background": "light"
     },
     "output_type": "display_data"
    },
    {
     "name": "stdout",
     "output_type": "stream",
     "text": [
      "F1_Score: 0.667 --- for a threshold of: 0.409\n",
      "Confusion matrix:\n",
      "GT \\ Pred            0          1\n",
      "0                    1405       83\n",
      "1                    20         103\n"
     ]
    }
   ],
   "source": [
    "rf_predict = final_RF.predict_proba(X_test)[:,1]\n",
    "logreg_predict = logreg1.predict_proba(X_test)[:,1]\n",
    "svm_predict = clf.predict_proba(X_test)[:,1]\n",
    "nn_predict = nn_model.predict(X_test)\n",
    "reg_predict = reg1.predict(X_test)\n",
    "\n",
    "y_proba_pred = []\n",
    "for i in range (len(X_test)):\n",
    "    yi = rf_predict[i] + logreg_predict[i] + svm_predict[i] + nn_predict[i] + reg_predict[i]\n",
    "    yi = yi /5.0\n",
    "    y_proba_pred.append(yi)\n",
    "score(y_proba_pred)"
   ]
  },
  {
   "cell_type": "markdown",
   "metadata": {
    "colab_type": "text",
    "id": "MJ7x1gM8Cx8q"
   },
   "source": [
    "## 3. Conclusion"
   ]
  },
  {
   "cell_type": "markdown",
   "metadata": {
    "colab": {},
    "colab_type": "code",
    "id": "koKiOkdACx8r"
   },
   "source": [
    "As a conclusion, it seems that the best model according to the F1 score is the first one we tried, that is to say the simple linear regression with a F1 score of 0.678, a ROC AUC of 0.94 and a PR-AUC of 0.68.\n",
    "\n",
    "However, several other models such as SVM and RF presents good results. Finally, ensembling all the models improves the AUC of both Precision-Recall and ROC curves.\n",
    "\n",
    "At the end of the day, the project is a good exemple of imbalanced binary classification as the accuracy is not a good indicator of the model consistency. The best models are not defined per se, but rather depend on what the user wants from the classifers (for instance one that detects a majority of 1 but fails to predict some 0 or one that is better on 0s). "
   ]
  }
 ],
 "metadata": {
  "colab": {
   "name": "credit_prediction-3.ipynb",
   "provenance": []
  },
  "kernelspec": {
   "display_name": "Python 3",
   "language": "python",
   "name": "python3"
  },
  "language_info": {
   "codemirror_mode": {
    "name": "ipython",
    "version": 3
   },
   "file_extension": ".py",
   "mimetype": "text/x-python",
   "name": "python",
   "nbconvert_exporter": "python",
   "pygments_lexer": "ipython3",
   "version": "3.7.3"
  }
 },
 "nbformat": 4,
 "nbformat_minor": 1
}
